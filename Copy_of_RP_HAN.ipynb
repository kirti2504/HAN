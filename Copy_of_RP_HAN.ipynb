{
  "cells": [
    {
      "cell_type": "markdown",
      "metadata": {
        "id": "view-in-github",
        "colab_type": "text"
      },
      "source": [
        "<a href=\"https://colab.research.google.com/github/kirti2504/HAN/blob/main/Copy_of_RP_HAN.ipynb\" target=\"_parent\"><img src=\"https://colab.research.google.com/assets/colab-badge.svg\" alt=\"Open In Colab\"/></a>"
      ]
    },
    {
      "cell_type": "code",
      "execution_count": null,
      "metadata": {
        "colab": {
          "base_uri": "https://localhost:8080/"
        },
        "id": "eaBHLAP8-pUH",
        "outputId": "2a93ec25-38c6-41aa-f4b9-df9a5586dfaf"
      },
      "outputs": [
        {
          "name": "stdout",
          "output_type": "stream",
          "text": [
            "Archive:  /content/glove.6B.zip\n",
            "  End-of-central-directory signature not found.  Either this file is not\n",
            "  a zipfile, or it constitutes one disk of a multi-part archive.  In the\n",
            "  latter case the central directory and zipfile comment will be found on\n",
            "  the last disk(s) of this archive.\n",
            "unzip:  cannot find zipfile directory in one of /content/glove.6B.zip or\n",
            "        /content/glove.6B.zip.zip, and cannot find /content/glove.6B.zip.ZIP, period.\n"
          ]
        }
      ],
      "source": [
        "!unzip /content/glove.6B.zip"
      ]
    },
    {
      "cell_type": "code",
      "execution_count": null,
      "metadata": {
        "colab": {
          "base_uri": "https://localhost:8080/"
        },
        "id": "-PB1KodZqJOz",
        "outputId": "78bb5f18-79b2-4ec0-f9bf-92a5607f98cc"
      },
      "outputs": [
        {
          "name": "stdout",
          "output_type": "stream",
          "text": [
            "Archive:  /content/bbc-fulltext.zip\n",
            "replace bbc/entertainment/289.txt? [y]es, [n]o, [A]ll, [N]one, [r]ename: yes\n",
            "  inflating: bbc/entertainment/289.txt  \n",
            "replace bbc/entertainment/262.txt? [y]es, [n]o, [A]ll, [N]one, [r]ename: "
          ]
        }
      ],
      "source": [
        "!unzip /content/bbc-fulltext.zip\n",
        "\n"
      ]
    },
    {
      "cell_type": "code",
      "execution_count": null,
      "metadata": {
        "id": "taN8eNcCMG3D"
      },
      "outputs": [],
      "source": [
        "import numpy as np\n",
        "import pandas as pd\n",
        "from matplotlib import pyplot as plt\n",
        "import math\n",
        "import string\n",
        "import requests\n",
        "import re\n",
        "from bs4 import BeautifulSoup"
      ]
    },
    {
      "cell_type": "code",
      "execution_count": null,
      "metadata": {
        "id": "njJSOYitNeZr"
      },
      "outputs": [],
      "source": [
        "import os\n",
        "import sys\n",
        "import urllib\n",
        "import gzip\n",
        "from IPython.display import display, HTML"
      ]
    },
    {
      "cell_type": "code",
      "execution_count": null,
      "metadata": {
        "colab": {
          "base_uri": "https://localhost:8080/"
        },
        "id": "wb9rrJOsNq1X",
        "outputId": "67beb7c9-8431-462c-c80e-95224f658e9a"
      },
      "outputs": [
        {
          "name": "stderr",
          "output_type": "stream",
          "text": [
            "[nltk_data] Downloading package punkt to /root/nltk_data...\n",
            "[nltk_data]   Package punkt is already up-to-date!\n",
            "[nltk_data] Downloading package stopwords to /root/nltk_data...\n",
            "[nltk_data]   Package stopwords is already up-to-date!\n",
            "[nltk_data] Downloading package wordnet to /root/nltk_data...\n",
            "[nltk_data]   Package wordnet is already up-to-date!\n"
          ]
        },
        {
          "data": {
            "text/plain": [
              "True"
            ]
          },
          "execution_count": 28,
          "metadata": {},
          "output_type": "execute_result"
        }
      ],
      "source": [
        "import nltk\n",
        "nltk.download('punkt')\n",
        "from nltk.tokenize import sent_tokenize, word_tokenize\n",
        "from nltk import tokenize\n",
        "from nltk.corpus import stopwords\n",
        "nltk.download('stopwords')\n",
        "from nltk.stem import WordNetLemmatizer\n",
        "nltk.download('wordnet')"
      ]
    },
    {
      "cell_type": "code",
      "execution_count": null,
      "metadata": {
        "id": "G59LO6YUOBV4"
      },
      "outputs": [],
      "source": [
        "import pip\n",
        "import tensorflow as tf\n",
        "from tensorflow.keras.preprocessing.sequence import pad_sequences\n",
        "from tensorflow.keras.preprocessing.text import Tokenizer, text_to_word_sequence\n",
        "from tensorflow.keras import initializers, regularizers, constraints\n",
        "from tensorflow.keras.layers import (\n",
        "    Dense, Dropout, Activation, Flatten, Input,\n",
        "    Conv2D, MaxPooling2D, Embedding, LSTM, GRU,\n",
        "    Bidirectional, TimeDistributed\n",
        ")\n",
        "from tensorflow.keras.models import Sequential, Model, load_model\n",
        "from tensorflow.keras import backend as K\n",
        "from tensorflow.keras.layers import Layer\n",
        "from tensorflow.keras.utils import plot_model, to_categorical"
      ]
    },
    {
      "cell_type": "markdown",
      "metadata": {
        "id": "eoE4FuTiPtJA"
      },
      "source": [
        "**FUNCTIONS**"
      ]
    },
    {
      "cell_type": "code",
      "execution_count": null,
      "metadata": {
        "id": "_9Qx_HpiPrbc"
      },
      "outputs": [],
      "source": [
        "def cleanString(review, stopWords):  #----- REVIEW ? -----#\n",
        "  lemmatizer = WordNetLemmatizer()\n",
        "  returnString = \"\"\n",
        "  sentence_token = tokenize.sent_tokenize(review)\n",
        "  idx_list = []\n",
        "  for j in range(len(sentence_token)):\n",
        "    single_sentence = tokenize.word_tokenize(sentence_token[j])\n",
        "    sentences_filtered = [(idx, lemmatizer.lemmatize(w.lower())) for idx, w in enumerate(single_sentence) if w.lower() not in stopWords and w.isalnum()]\n",
        "    idx_list.append([x[0] for x in sentences_filtered])\n",
        "    word_list = [x[1] for x in sentences_filtered]\n",
        "    returnString = returnString + ' '.join(word_list) + ' . '\n",
        "\n",
        "  return returnString, idx_list\n",
        "\n",
        "\n",
        "def split_df(dataframe, column_name, training_split = 0.6, validation_split = 0.2, test_split = 0.2):\n",
        "  if training_split + validation_split + test_split != 1.0:\n",
        "    raise ValueError(\"Split parameter sum should be equal to 1.0\")\n",
        "\n",
        "  total = len(dataframe.index)\n",
        "\n",
        "  train = dataframe.reset_index().groupby(column_name).apply(lambda x: x.sample(frac=training_split))\\\n",
        "    .reset_index(drop=True).set_index('index')\n",
        "  train = train.sample(frac=1)\n",
        "  temp_df = dataframe.drop(train.index)\n",
        "  validation = temp_df.reset_index().groupby(column_name)\\\n",
        "    .apply(lambda x: x.sample(frac=validation_split/(test_split+validation_split)))\\\n",
        "           .reset_index(drop=True).set_index('index')\n",
        "  validation = validation.sample(frac=1)\n",
        "  test = temp_df.drop(validation.index)\n",
        "  test = test.sample(frac=1)\n",
        "\n",
        "  print('Total: ', len(dataframe))\n",
        "  print('Training: ', len(train), ', Percentage: ', len(train)/len(dataframe))\n",
        "  print('Validation: ', len(validation), ', Percentage: ', len(validation)/len(dataframe))\n",
        "  print('Test:', len(test), ', Percentage: ', len(test)/len(dataframe))\n",
        "\n",
        "  return train, validation, test\n",
        "\n",
        "def wordToSeq(text,word_index,max_sentences,max_words,max_features):\n",
        "    sentences = tokenize.sent_tokenize(text)\n",
        "    data = np.zeros((max_sentences, max_words), dtype='int32')\n",
        "    for j, sent in enumerate(sentences):\n",
        "        if j< max_sentences:\n",
        "            wordTokens = tokenize.word_tokenize(sent.rstrip('.'))\n",
        "            wordTokens = [w for w in wordTokens]\n",
        "            k=0\n",
        "            for _, word in enumerate(wordTokens):\n",
        "                try:\n",
        "                    if k<max_words and word_index[word]<max_features:\n",
        "                        data[j,k] = word_index[word]\n",
        "                        k=k+1\n",
        "                except:\n",
        "                    pass\n",
        "    return data\n",
        "\n",
        "def to_categorical(series,class_dict):\n",
        "    n_classes = len(class_dict)\n",
        "    new_dict = {}\n",
        "    for key,value in class_dict.items():\n",
        "        cat_list = [0] * n_classes\n",
        "        cat_list[key] = 1\n",
        "        new_dict[key] = cat_list\n",
        "    y_cat = []\n",
        "    for key,value in series.iteritems():\n",
        "        y_cat.append(new_dict[value])\n",
        "    return np.array(y_cat)"
      ]
    },
    {
      "cell_type": "markdown",
      "metadata": {
        "id": "iWypfNCjTa9A"
      },
      "source": [
        "**ATTENTION LAYER**"
      ]
    },
    {
      "cell_type": "code",
      "execution_count": null,
      "metadata": {
        "id": "ODyyVkz_TTb_"
      },
      "outputs": [],
      "source": [
        "class AttentionLayer(Layer):\n",
        "    \"\"\"\n",
        "    Hierarchial Attention Layer as described by Hierarchical Attention Networks for Document Classification(2016)\n",
        "    - Yang et. al.\n",
        "    Source: https://www.cs.cmu.edu/~hovy/papers/16HLT-hierarchical-attention-networks.pdf\n",
        "    Theano backend\n",
        "    \"\"\"\n",
        "    def __init__(self,attention_dim=100,return_coefficients=False,**kwargs):\n",
        "        # Initializer\n",
        "        self.supports_masking = True\n",
        "        self.return_coefficients = return_coefficients\n",
        "        self.init = initializers.get('glorot_uniform') # initializes values with uniform distribution\n",
        "        self.attention_dim = attention_dim\n",
        "        super(AttentionLayer, self).__init__(**kwargs)\n",
        "\n",
        "    def build(self, input_shape):\n",
        "        # Builds all weights\n",
        "        # W = Weight matrix, b = bias vector, u = context vector\n",
        "        assert len(input_shape) == 3\n",
        "        self.W = K.variable(self.init((input_shape[-1], self.attention_dim)),name='W')\n",
        "        self.b = K.variable(self.init((self.attention_dim, )),name='b')\n",
        "        self.u = K.variable(self.init((self.attention_dim, 1)),name='u')\n",
        "        self._trainable_weights = [self.W, self.b, self.u]\n",
        "\n",
        "        super(AttentionLayer, self).build(input_shape)\n",
        "\n",
        "    def compute_mask(self, input, input_mask=None):\n",
        "        return None\n",
        "\n",
        "    def call(self, hit, mask=None):\n",
        "        # Here, the actual calculation is done\n",
        "        uit = K.bias_add(K.dot(hit, self.W),self.b)\n",
        "        uit = K.tanh(uit)\n",
        "\n",
        "        ait = K.dot(uit, self.u)\n",
        "        ait = K.squeeze(ait, -1)\n",
        "        ait = K.exp(ait)\n",
        "\n",
        "        if mask is not None:\n",
        "            ait *= K.cast(mask, K.floatx())\n",
        "\n",
        "        ait /= K.cast(K.sum(ait, axis=1, keepdims=True) + K.epsilon(), K.floatx())\n",
        "        ait = K.expand_dims(ait)\n",
        "        weighted_input = hit * ait\n",
        "\n",
        "        if self.return_coefficients:\n",
        "            return [K.sum(weighted_input, axis=1), ait]\n",
        "        else:\n",
        "            return K.sum(weighted_input, axis=1)\n",
        "\n",
        "    def compute_output_shape(self, input_shape):\n",
        "        if self.return_coefficients:\n",
        "            return [(input_shape[0], input_shape[-1]), (input_shape[0], input_shape[-1], 1)]\n",
        "        else:\n",
        "            return input_shape[0], input_shape[-1]"
      ]
    },
    {
      "cell_type": "code",
      "execution_count": null,
      "metadata": {
        "id": "MOm71FLmRH9k"
      },
      "outputs": [],
      "source": []
    },
    {
      "cell_type": "markdown",
      "metadata": {
        "id": "iOq3alm5RIjo"
      },
      "source": []
    },
    {
      "cell_type": "markdown",
      "metadata": {
        "id": "2WEviBc-TtLp"
      },
      "source": [
        "**LOAD DATA**"
      ]
    },
    {
      "cell_type": "code",
      "execution_count": null,
      "metadata": {
        "id": "i_9sCi-JTvdi"
      },
      "outputs": [],
      "source": [
        "# Current working directory(directory which contains these jupyter notebook)\n",
        "\"\"\"\n",
        "Reads the current working directory and searches for the directory 'bbc'.\n",
        "Every sub directory in directory 'bbc' is searched for .txt files.\n",
        "Every .txt file is read and saved. The sub directory name containt the .txt file is used the label.\n",
        "\"\"\"\n",
        "filepath = os.path.join(os.getcwd(),\"/content/bbc\")\n",
        "articles = []\n",
        "category_num = {}\n",
        "count = 0\n",
        "for item in os.listdir(filepath):\n",
        "    category_num[item] = count\n",
        "    count += 1\n",
        "    if os.path.isdir(os.path.join(filepath,item)):\n",
        "        sub_dir = os.path.join(filepath,item)\n",
        "        files = [f for f in os.listdir(sub_dir)\n",
        "         if os.path.isfile(os.path.join(sub_dir,f))]\n",
        "        for file in files:\n",
        "            with open(os.path.join(sub_dir,file)) as text:\n",
        "                data = text.read()\n",
        "                paragraphs = data.split('\\n', -1)\n",
        "                title = paragraphs[0] + '. '\n",
        "                paragraphs[0] = title\n",
        "                data = ''.join(paragraphs)\n",
        "                articles.append((data,item))\n",
        "\n",
        "data_df = pd.DataFrame(data=articles,columns=['Text',\"Category\"])"
      ]
    },
    {
      "cell_type": "code",
      "execution_count": null,
      "metadata": {
        "colab": {
          "base_uri": "https://localhost:8080/"
        },
        "id": "kEfw_sWzUG2O",
        "outputId": "867676c8-e10a-41ac-92cc-fc20413c92de"
      },
      "outputs": [
        {
          "name": "stderr",
          "output_type": "stream",
          "text": [
            "[nltk_data] Downloading package punkt_tab to /root/nltk_data...\n",
            "[nltk_data]   Unzipping tokenizers/punkt_tab.zip.\n"
          ]
        },
        {
          "name": "stdout",
          "output_type": "stream",
          "text": [
            "Average number of words in each sentence: 26\n",
            "Average number of sentences in each document: 17\n"
          ]
        }
      ],
      "source": [
        "import nltk\n",
        "nltk.download('punkt_tab')\n",
        "n_sent = 0\n",
        "n_words = 0\n",
        "\n",
        "for text in data_df['Text']:  # Iterate over the 'Text' column directly\n",
        "    sent = sent_tokenize(text)\n",
        "    n_sent += len(sent)\n",
        "    n_words += sum(len(word_tokenize(s)) for s in sent)\n",
        "\n",
        "# Avoid division by zero\n",
        "avg_words_per_sent = round(n_words / n_sent) if n_sent > 0 else 0\n",
        "avg_sents_per_doc = round(n_sent / data_df.shape[0]) if data_df.shape[0] > 0 else 0\n",
        "\n",
        "print(\"Average number of words in each sentence:\", avg_words_per_sent)\n",
        "print(\"Average number of sentences in each document:\", avg_sents_per_doc)"
      ]
    },
    {
      "cell_type": "markdown",
      "metadata": {
        "id": "DgbO2NarU42M"
      },
      "source": [
        "**PARAMETERS**"
      ]
    },
    {
      "cell_type": "code",
      "execution_count": null,
      "metadata": {
        "id": "0ssqrifNU60l"
      },
      "outputs": [],
      "source": [
        "MAX_FEATURES = 200000 # maximum number of unique words that should be included in the tokenized word index\n",
        "MAX_SENTENCE_NUM = 40 # maximum number of sentences in one document\n",
        "MAX_WORD_NUM = 50     # maximum number of words in each sentence\n",
        "EMBED_SIZE = 100      # vector size of word embedding"
      ]
    },
    {
      "cell_type": "markdown",
      "metadata": {
        "id": "BjeozJvAVAEE"
      },
      "source": [
        "**DATA PREPROCESSING**"
      ]
    },
    {
      "cell_type": "code",
      "execution_count": null,
      "metadata": {
        "colab": {
          "base_uri": "https://localhost:8080/",
          "height": 206
        },
        "id": "4GrdGZaDU9O0",
        "outputId": "394fa474-f2c6-40a8-fc53-8abe2143f10c"
      },
      "outputs": [
        {
          "name": "stdout",
          "output_type": "stream",
          "text": []
        },
        {
          "data": {
            "application/vnd.google.colaboratory.intrinsic+json": {
              "summary": "{\n  \"name\": \"data_cleaned\",\n  \"rows\": 2225,\n  \"fields\": [\n    {\n      \"column\": \"Text\",\n      \"properties\": {\n        \"dtype\": \"string\",\n        \"num_unique_values\": 2120,\n        \"samples\": [\n          \"weak sale hit next . next said annual profit lower previously expected clearance sale proved disappointing . clearance rate sale expectation company said . high street retailer said expected report annual profit . next share fell 3 following release trading chief executive simon wolfson admitted festive sale would expect normal christmas said sale still top analyst area next could done better mr wolfson said menswear range little bit similar previous year . mr wolfson also said disappointing sale fact went much stock rather fact demand stock . next store sale five month 3 august 24 december year earlier . figure existing next store unaffected new next store opening . sale growth 49 next store directly affected new store opening locality sale across retail mail order division next said . next directory mail order division saw sale rise period . term worry trading result said nick bubb analyst evolution security . profit around would well within comfort zone . however one dealer asked named told reuters seasonal sale performance people hoped . christmas tough whole sector one best retailer said . next trading statement come day house fraser woolworth disappointed investor figure . \",\n          \"chepkemei join edinburgh . susan chepkemei decided fit enough run next month great edinburgh international cross kenyan initially unsure would recovered gruelling tussle paula radcliffe new york marathon time compete . declared task join field headed world cross country champion benita johnson . race director matthew turnbull said susan add even strength depth line . chepkemei six kilometre event three year ago staged newcastle endured epic battle radcliffe big apple briton outsprinted final 400m . tirunesh dibaba ethiopia defend title last year tyneside race moved north border . european cross country champion briton hayley yelling also competes edinburgh 15 january scot kathy butler . \",\n          \"godzilla get hollywood fame star . movie monster godzilla received star hollywood walk fame honouring 50th birthday launch 28th actor dressed giant creature breathed smoke photographer monday godzilla received star hollywood boulevard . godzilla thank historical monumental star said final war producer shogo tomiyama . unfortunately speak english added . hollywood honorary mayor johnny grant said hereby proclaim godzilla day hollywood . loose wild getting hell added . premiere godzilla final war grauman chinese theatre followed ceremony hollywood boulevard . monster joined including japanese pop star actor masahiro matsuoka . director ryuhei kitamura said may godzilla final outing billed . producer say . producer liar said . godzilla working last 50 year . think godzilla deserves vacation . producer shogo tomiyama added long godzilla fascinate people believe resurrected new generation filmmaker future . godzilla first appeared 1954 prehistoric lizard woken atomic bomb test . \"\n        ],\n        \"semantic_type\": \"\",\n        \"description\": \"\"\n      }\n    },\n    {\n      \"column\": \"Category\",\n      \"properties\": {\n        \"dtype\": \"category\",\n        \"num_unique_values\": 5,\n        \"samples\": [\n          \"business\",\n          \"politics\",\n          \"tech\"\n        ],\n        \"semantic_type\": \"\",\n        \"description\": \"\"\n      }\n    },\n    {\n      \"column\": \"Code\",\n      \"properties\": {\n        \"dtype\": \"int8\",\n        \"num_unique_values\": 5,\n        \"samples\": [\n          0,\n          2,\n          4\n        ],\n        \"semantic_type\": \"\",\n        \"description\": \"\"\n      }\n    }\n  ]\n}",
              "type": "dataframe",
              "variable_name": "data_cleaned"
            },
            "text/html": [
              "\n",
              "  <div id=\"df-65617fd2-ee25-4791-9d9f-3ac537d65717\" class=\"colab-df-container\">\n",
              "    <div>\n",
              "<style scoped>\n",
              "    .dataframe tbody tr th:only-of-type {\n",
              "        vertical-align: middle;\n",
              "    }\n",
              "\n",
              "    .dataframe tbody tr th {\n",
              "        vertical-align: top;\n",
              "    }\n",
              "\n",
              "    .dataframe thead th {\n",
              "        text-align: right;\n",
              "    }\n",
              "</style>\n",
              "<table border=\"1\" class=\"dataframe\">\n",
              "  <thead>\n",
              "    <tr style=\"text-align: right;\">\n",
              "      <th></th>\n",
              "      <th>Text</th>\n",
              "      <th>Category</th>\n",
              "      <th>Code</th>\n",
              "    </tr>\n",
              "  </thead>\n",
              "  <tbody>\n",
              "    <tr>\n",
              "      <th>0</th>\n",
              "      <td>charity single quake relief . singer including...</td>\n",
              "      <td>entertainment</td>\n",
              "      <td>1</td>\n",
              "    </tr>\n",
              "    <tr>\n",
              "      <th>1</th>\n",
              "      <td>incredibles win animation award . incredibles ...</td>\n",
              "      <td>entertainment</td>\n",
              "      <td>1</td>\n",
              "    </tr>\n",
              "    <tr>\n",
              "      <th>2</th>\n",
              "      <td>mccririck big brother show . racing pundit joh...</td>\n",
              "      <td>entertainment</td>\n",
              "      <td>1</td>\n",
              "    </tr>\n",
              "    <tr>\n",
              "      <th>3</th>\n",
              "      <td>greer attack big brother . germaine greer crit...</td>\n",
              "      <td>entertainment</td>\n",
              "      <td>1</td>\n",
              "    </tr>\n",
              "    <tr>\n",
              "      <th>4</th>\n",
              "      <td>elvis regains top chart position . elvis presl...</td>\n",
              "      <td>entertainment</td>\n",
              "      <td>1</td>\n",
              "    </tr>\n",
              "  </tbody>\n",
              "</table>\n",
              "</div>\n",
              "    <div class=\"colab-df-buttons\">\n",
              "\n",
              "  <div class=\"colab-df-container\">\n",
              "    <button class=\"colab-df-convert\" onclick=\"convertToInteractive('df-65617fd2-ee25-4791-9d9f-3ac537d65717')\"\n",
              "            title=\"Convert this dataframe to an interactive table.\"\n",
              "            style=\"display:none;\">\n",
              "\n",
              "  <svg xmlns=\"http://www.w3.org/2000/svg\" height=\"24px\" viewBox=\"0 -960 960 960\">\n",
              "    <path d=\"M120-120v-720h720v720H120Zm60-500h600v-160H180v160Zm220 220h160v-160H400v160Zm0 220h160v-160H400v160ZM180-400h160v-160H180v160Zm440 0h160v-160H620v160ZM180-180h160v-160H180v160Zm440 0h160v-160H620v160Z\"/>\n",
              "  </svg>\n",
              "    </button>\n",
              "\n",
              "  <style>\n",
              "    .colab-df-container {\n",
              "      display:flex;\n",
              "      gap: 12px;\n",
              "    }\n",
              "\n",
              "    .colab-df-convert {\n",
              "      background-color: #E8F0FE;\n",
              "      border: none;\n",
              "      border-radius: 50%;\n",
              "      cursor: pointer;\n",
              "      display: none;\n",
              "      fill: #1967D2;\n",
              "      height: 32px;\n",
              "      padding: 0 0 0 0;\n",
              "      width: 32px;\n",
              "    }\n",
              "\n",
              "    .colab-df-convert:hover {\n",
              "      background-color: #E2EBFA;\n",
              "      box-shadow: 0px 1px 2px rgba(60, 64, 67, 0.3), 0px 1px 3px 1px rgba(60, 64, 67, 0.15);\n",
              "      fill: #174EA6;\n",
              "    }\n",
              "\n",
              "    .colab-df-buttons div {\n",
              "      margin-bottom: 4px;\n",
              "    }\n",
              "\n",
              "    [theme=dark] .colab-df-convert {\n",
              "      background-color: #3B4455;\n",
              "      fill: #D2E3FC;\n",
              "    }\n",
              "\n",
              "    [theme=dark] .colab-df-convert:hover {\n",
              "      background-color: #434B5C;\n",
              "      box-shadow: 0px 1px 3px 1px rgba(0, 0, 0, 0.15);\n",
              "      filter: drop-shadow(0px 1px 2px rgba(0, 0, 0, 0.3));\n",
              "      fill: #FFFFFF;\n",
              "    }\n",
              "  </style>\n",
              "\n",
              "    <script>\n",
              "      const buttonEl =\n",
              "        document.querySelector('#df-65617fd2-ee25-4791-9d9f-3ac537d65717 button.colab-df-convert');\n",
              "      buttonEl.style.display =\n",
              "        google.colab.kernel.accessAllowed ? 'block' : 'none';\n",
              "\n",
              "      async function convertToInteractive(key) {\n",
              "        const element = document.querySelector('#df-65617fd2-ee25-4791-9d9f-3ac537d65717');\n",
              "        const dataTable =\n",
              "          await google.colab.kernel.invokeFunction('convertToInteractive',\n",
              "                                                    [key], {});\n",
              "        if (!dataTable) return;\n",
              "\n",
              "        const docLinkHtml = 'Like what you see? Visit the ' +\n",
              "          '<a target=\"_blank\" href=https://colab.research.google.com/notebooks/data_table.ipynb>data table notebook</a>'\n",
              "          + ' to learn more about interactive tables.';\n",
              "        element.innerHTML = '';\n",
              "        dataTable['output_type'] = 'display_data';\n",
              "        await google.colab.output.renderOutput(dataTable, element);\n",
              "        const docLink = document.createElement('div');\n",
              "        docLink.innerHTML = docLinkHtml;\n",
              "        element.appendChild(docLink);\n",
              "      }\n",
              "    </script>\n",
              "  </div>\n",
              "\n",
              "\n",
              "<div id=\"df-2a0bc073-1ee8-48fc-8af1-f0c211df7382\">\n",
              "  <button class=\"colab-df-quickchart\" onclick=\"quickchart('df-2a0bc073-1ee8-48fc-8af1-f0c211df7382')\"\n",
              "            title=\"Suggest charts\"\n",
              "            style=\"display:none;\">\n",
              "\n",
              "<svg xmlns=\"http://www.w3.org/2000/svg\" height=\"24px\"viewBox=\"0 0 24 24\"\n",
              "     width=\"24px\">\n",
              "    <g>\n",
              "        <path d=\"M19 3H5c-1.1 0-2 .9-2 2v14c0 1.1.9 2 2 2h14c1.1 0 2-.9 2-2V5c0-1.1-.9-2-2-2zM9 17H7v-7h2v7zm4 0h-2V7h2v10zm4 0h-2v-4h2v4z\"/>\n",
              "    </g>\n",
              "</svg>\n",
              "  </button>\n",
              "\n",
              "<style>\n",
              "  .colab-df-quickchart {\n",
              "      --bg-color: #E8F0FE;\n",
              "      --fill-color: #1967D2;\n",
              "      --hover-bg-color: #E2EBFA;\n",
              "      --hover-fill-color: #174EA6;\n",
              "      --disabled-fill-color: #AAA;\n",
              "      --disabled-bg-color: #DDD;\n",
              "  }\n",
              "\n",
              "  [theme=dark] .colab-df-quickchart {\n",
              "      --bg-color: #3B4455;\n",
              "      --fill-color: #D2E3FC;\n",
              "      --hover-bg-color: #434B5C;\n",
              "      --hover-fill-color: #FFFFFF;\n",
              "      --disabled-bg-color: #3B4455;\n",
              "      --disabled-fill-color: #666;\n",
              "  }\n",
              "\n",
              "  .colab-df-quickchart {\n",
              "    background-color: var(--bg-color);\n",
              "    border: none;\n",
              "    border-radius: 50%;\n",
              "    cursor: pointer;\n",
              "    display: none;\n",
              "    fill: var(--fill-color);\n",
              "    height: 32px;\n",
              "    padding: 0;\n",
              "    width: 32px;\n",
              "  }\n",
              "\n",
              "  .colab-df-quickchart:hover {\n",
              "    background-color: var(--hover-bg-color);\n",
              "    box-shadow: 0 1px 2px rgba(60, 64, 67, 0.3), 0 1px 3px 1px rgba(60, 64, 67, 0.15);\n",
              "    fill: var(--button-hover-fill-color);\n",
              "  }\n",
              "\n",
              "  .colab-df-quickchart-complete:disabled,\n",
              "  .colab-df-quickchart-complete:disabled:hover {\n",
              "    background-color: var(--disabled-bg-color);\n",
              "    fill: var(--disabled-fill-color);\n",
              "    box-shadow: none;\n",
              "  }\n",
              "\n",
              "  .colab-df-spinner {\n",
              "    border: 2px solid var(--fill-color);\n",
              "    border-color: transparent;\n",
              "    border-bottom-color: var(--fill-color);\n",
              "    animation:\n",
              "      spin 1s steps(1) infinite;\n",
              "  }\n",
              "\n",
              "  @keyframes spin {\n",
              "    0% {\n",
              "      border-color: transparent;\n",
              "      border-bottom-color: var(--fill-color);\n",
              "      border-left-color: var(--fill-color);\n",
              "    }\n",
              "    20% {\n",
              "      border-color: transparent;\n",
              "      border-left-color: var(--fill-color);\n",
              "      border-top-color: var(--fill-color);\n",
              "    }\n",
              "    30% {\n",
              "      border-color: transparent;\n",
              "      border-left-color: var(--fill-color);\n",
              "      border-top-color: var(--fill-color);\n",
              "      border-right-color: var(--fill-color);\n",
              "    }\n",
              "    40% {\n",
              "      border-color: transparent;\n",
              "      border-right-color: var(--fill-color);\n",
              "      border-top-color: var(--fill-color);\n",
              "    }\n",
              "    60% {\n",
              "      border-color: transparent;\n",
              "      border-right-color: var(--fill-color);\n",
              "    }\n",
              "    80% {\n",
              "      border-color: transparent;\n",
              "      border-right-color: var(--fill-color);\n",
              "      border-bottom-color: var(--fill-color);\n",
              "    }\n",
              "    90% {\n",
              "      border-color: transparent;\n",
              "      border-bottom-color: var(--fill-color);\n",
              "    }\n",
              "  }\n",
              "</style>\n",
              "\n",
              "  <script>\n",
              "    async function quickchart(key) {\n",
              "      const quickchartButtonEl =\n",
              "        document.querySelector('#' + key + ' button');\n",
              "      quickchartButtonEl.disabled = true;  // To prevent multiple clicks.\n",
              "      quickchartButtonEl.classList.add('colab-df-spinner');\n",
              "      try {\n",
              "        const charts = await google.colab.kernel.invokeFunction(\n",
              "            'suggestCharts', [key], {});\n",
              "      } catch (error) {\n",
              "        console.error('Error during call to suggestCharts:', error);\n",
              "      }\n",
              "      quickchartButtonEl.classList.remove('colab-df-spinner');\n",
              "      quickchartButtonEl.classList.add('colab-df-quickchart-complete');\n",
              "    }\n",
              "    (() => {\n",
              "      let quickchartButtonEl =\n",
              "        document.querySelector('#df-2a0bc073-1ee8-48fc-8af1-f0c211df7382 button');\n",
              "      quickchartButtonEl.style.display =\n",
              "        google.colab.kernel.accessAllowed ? 'block' : 'none';\n",
              "    })();\n",
              "  </script>\n",
              "</div>\n",
              "\n",
              "    </div>\n",
              "  </div>\n"
            ],
            "text/plain": [
              "                                                Text       Category  Code\n",
              "0  charity single quake relief . singer including...  entertainment     1\n",
              "1  incredibles win animation award . incredibles ...  entertainment     1\n",
              "2  mccririck big brother show . racing pundit joh...  entertainment     1\n",
              "3  greer attack big brother . germaine greer crit...  entertainment     1\n",
              "4  elvis regains top chart position . elvis presl...  entertainment     1"
            ]
          },
          "execution_count": 31,
          "metadata": {},
          "output_type": "execute_result"
        }
      ],
      "source": [
        "\"\"\"\n",
        "Cleans raw data using the cleanString() function from above.\n",
        "English stopwords are used from nltk library.\n",
        "Cleaned dataset is saved in 'data_cleaned' pandas dataframe.\n",
        "Labels are converted to numbers,\n",
        "\"\"\"\n",
        "articles = []\n",
        "n = data_df['Text'].shape[0]\n",
        "col_number = data_df.columns.get_loc('Text')\n",
        "stopWords = set(stopwords.words('english'))\n",
        "data_cleaned = data_df.copy()\n",
        "for i in range(n):\n",
        "    temp_string,idx_string = cleanString(data_df.iloc[i,col_number],stopWords)\n",
        "    articles.append(temp_string)\n",
        "    print(str(i+1)+' of '+str(n)+\" articles cleaned.\",end='\\r')\n",
        "\n",
        "data_cleaned.loc[:,'Text'] = pd.Series(articles,index=data_df.index)\n",
        "data_cleaned.loc[:,'Category'] = pd.Categorical(data_cleaned.Category)\n",
        "data_cleaned['Category'] = data_cleaned['Category'].astype('category')\n",
        "data_cleaned['Code'] = data_cleaned.Category.cat.codes\n",
        "categoryToCode = dict( enumerate(data_cleaned['Category'].cat.categories))\n",
        "\n",
        "data_cleaned.head()"
      ]
    },
    {
      "cell_type": "markdown",
      "metadata": {
        "id": "LPu9vaXYVIrG"
      },
      "source": [
        "**TOKENIZATION**"
      ]
    },
    {
      "cell_type": "code",
      "execution_count": null,
      "metadata": {
        "colab": {
          "base_uri": "https://localhost:8080/"
        },
        "id": "_RFBMXtZVKlj",
        "outputId": "8cd55751-4d90-435a-d3ed-cc1be9dc2029"
      },
      "outputs": [
        {
          "name": "stdout",
          "output_type": "stream",
          "text": [
            "Number of tokens: 25325\n"
          ]
        }
      ],
      "source": [
        "MAX_FEATURES = 200000\n",
        "texts = []\n",
        "n = data_cleaned['Text'].shape[0]\n",
        "\n",
        "for i in range(n):\n",
        "    s = data_cleaned['Text'].iloc[i]\n",
        "    # Remove punctuation and extra spaces efficiently\n",
        "    s = re.sub(r'[^\\w\\s]', '', s)  # Removes all punctuation\n",
        "    s = ' '.join(s.split())  # Removes extra spaces\n",
        "    texts.append(s)\n",
        "\n",
        "tokenizer = Tokenizer(num_words=MAX_FEATURES, lower=True, oov_token=None)\n",
        "tokenizer.fit_on_texts(texts)\n",
        "word_index = tokenizer.word_index\n",
        "print('Number of tokens: ' + str(len(word_index)))"
      ]
    },
    {
      "cell_type": "markdown",
      "metadata": {
        "id": "PgkttuyxVR29"
      },
      "source": [
        "**GloVe EMBEDDING MATRIX**"
      ]
    },
    {
      "cell_type": "code",
      "execution_count": null,
      "metadata": {
        "colab": {
          "base_uri": "https://localhost:8080/"
        },
        "id": "uod9dS82VX6K",
        "outputId": "ceebc6d6-e88f-431b-9ce7-0b23daa99eaf"
      },
      "outputs": [
        {
          "name": "stdout",
          "output_type": "stream",
          "text": [
            "Found 399957 word vectors.\n",
            "Total absent words are 1410 which is 5.57 % of total words\n",
            "Words with 0 or less mentions 0 which is 0.00 % of total words\n"
          ]
        }
      ],
      "source": [
        "\"\"\"\n",
        "A pre-trained word to vector is used from GloVe by Pennington et. al.\n",
        "Source: https://nlp.stanford.edu/projects/glove/\n",
        "The data was trained on wikipedia articles. Each word is described by a 100d vector.\n",
        "\"\"\"\n",
        "EMBED_SIZE = 100\n",
        "# Load word vectors from pre-trained dataset\n",
        "embeddings_index = {}\n",
        "f = open(os.path.join(os.getcwd(), '/content/glove.6B.100d.txt'),encoding='UTF-8')\n",
        "for line in f:\n",
        "    values = line.split()\n",
        "    word = values[0]\n",
        "    coefs = np.asarray(values[1:], dtype='float32')\n",
        "    embeddings_index[word] = coefs\n",
        "f.close()\n",
        "print('Found %s word vectors.' % len(embeddings_index))\n",
        "\n",
        "# Search words in our word index in the pre-trained dataset\n",
        "# Create an embedding matrix for our bbc dataset\n",
        "min_wordCount = 0\n",
        "absent_words = 0\n",
        "small_words = 0\n",
        "embedding_matrix = np.zeros((len(word_index) + 1, EMBED_SIZE))\n",
        "word_counts = tokenizer.word_counts\n",
        "for word, i in word_index.items():\n",
        "    if word_counts[word] > min_wordCount:\n",
        "        embedding_vector = embeddings_index.get(word)\n",
        "        if embedding_vector is not None:\n",
        "            # words not found in embedding index will be all-zeros.\n",
        "            embedding_matrix[i] = embedding_vector\n",
        "        else:\n",
        "            absent_words += 1\n",
        "    else:\n",
        "        small_words += 1\n",
        "print('Total absent words are', absent_words, 'which is', \"%0.2f\" % (absent_words * 100 / len(word_index)),\n",
        "      '% of total words')\n",
        "print('Words with '+str(min_wordCount)+' or less mentions', small_words, 'which is', \"%0.2f\" % (small_words * 100 / len(word_index)),\n",
        "      '% of total words')"
      ]
    },
    {
      "cell_type": "markdown",
      "metadata": {
        "id": "ariUr7XhVZNV"
      },
      "source": [
        "**SPLITTING DATASET**"
      ]
    },
    {
      "cell_type": "code",
      "execution_count": null,
      "metadata": {
        "colab": {
          "base_uri": "https://localhost:8080/"
        },
        "id": "EHxuiBruVfuX",
        "outputId": "45b1de30-2e59-42ba-9e37-050538399448"
      },
      "outputs": [
        {
          "name": "stdout",
          "output_type": "stream",
          "text": [
            "{0: 'business', 1: 'entertainment', 2: 'politics', 3: 'sport', 4: 'tech'}\n",
            "Total:  2225\n",
            "Training:  1781 , Percentage:  0.8004494382022472\n",
            "Validation:  222 , Percentage:  0.0997752808988764\n",
            "Test: 222 , Percentage:  0.0997752808988764\n"
          ]
        },
        {
          "name": "stderr",
          "output_type": "stream",
          "text": [
            "<ipython-input-18-e74d895d7873>:22: DeprecationWarning: DataFrameGroupBy.apply operated on the grouping columns. This behavior is deprecated, and in a future version of pandas the grouping columns will be excluded from the operation. Either pass `include_groups=False` to exclude the groupings or explicitly select the grouping columns after groupby to silence this warning.\n",
            "  train = dataframe.reset_index().groupby(column_name).apply(lambda x: x.sample(frac=training_split))\\\n",
            "<ipython-input-18-e74d895d7873>:27: DeprecationWarning: DataFrameGroupBy.apply operated on the grouping columns. This behavior is deprecated, and in a future version of pandas the grouping columns will be excluded from the operation. Either pass `include_groups=False` to exclude the groupings or explicitly select the grouping columns after groupby to silence this warning.\n",
            "  .apply(lambda x: x.sample(frac=validation_split/(test_split+validation_split)))\\\n"
          ]
        }
      ],
      "source": [
        "\"\"\"\n",
        "Split Pandas Dataframe into train, validation and testset.\n",
        "Convert data to keras conforming form\n",
        "\"\"\"\n",
        "MAX_SENTENCE_NUM = 40\n",
        "MAX_WORD_NUM = 50\n",
        "print(categoryToCode)\n",
        "train, validation, test = split_df(data_cleaned, 'Code',0.8,0.1,0.1)\n",
        "\n",
        "#Training\n",
        "paras = []\n",
        "for i in range(train['Text'].shape[0]):\n",
        "    sequence = wordToSeq(train['Text'].iloc[i],word_index,MAX_SENTENCE_NUM,MAX_WORD_NUM,MAX_FEATURES)\n",
        "    paras.append(sequence)\n",
        "x_train = np.array(paras)\n",
        "\n",
        "train['Code'] = train['Code'].astype(int)\n",
        "validation['Code'] = validation['Code'].astype(int)\n",
        "test['Code'] = test['Code'].astype(int)\n",
        "\n",
        "# Convert labels to categorical\n",
        "y_train = to_categorical(train['Code'].values, num_classes=len(categoryToCode))\n",
        "\n",
        "\n",
        "\n",
        "#Validation\n",
        "paras = []\n",
        "for i in range(validation['Text'].shape[0]):\n",
        "    sequence = wordToSeq(validation['Text'].iloc[i],word_index,MAX_SENTENCE_NUM,MAX_WORD_NUM,MAX_FEATURES)\n",
        "    paras.append(sequence)\n",
        "x_val = np.array(paras)\n",
        "y_val = to_categorical(validation['Code'].values, num_classes=len(categoryToCode))\n",
        "\n",
        "#Test\n",
        "paras = []\n",
        "for i in range(test['Text'].shape[0]):\n",
        "    sequence = wordToSeq(test['Text'].iloc[i],word_index,MAX_SENTENCE_NUM,MAX_WORD_NUM,MAX_FEATURES)\n",
        "    paras.append(sequence)\n",
        "x_test = np.array(paras)\n",
        "y_test = to_categorical(test['Code'].values, num_classes=len(categoryToCode))"
      ]
    },
    {
      "cell_type": "markdown",
      "metadata": {
        "id": "eWrPfzvPVgXr"
      },
      "source": [
        "**HAN MODEL**"
      ]
    },
    {
      "cell_type": "code",
      "execution_count": null,
      "metadata": {
        "colab": {
          "base_uri": "https://localhost:8080/",
          "height": 1000
        },
        "id": "0O1aTmUTVmBB",
        "outputId": "b99ee5c7-b897-4a5f-8cef-be6774b53539"
      },
      "outputs": [
        {
          "name": "stderr",
          "output_type": "stream",
          "text": [
            "/usr/local/lib/python3.11/dist-packages/keras/src/layers/core/embedding.py:90: UserWarning: Argument `input_length` is deprecated. Just remove it.\n",
            "  warnings.warn(\n"
          ]
        },
        {
          "data": {
            "text/html": [
              "<pre style=\"white-space:pre;overflow-x:auto;line-height:normal;font-family:Menlo,'DejaVu Sans Mono',consolas,'Courier New',monospace\"><span style=\"font-weight: bold\">Model: \"functional\"</span>\n",
              "</pre>\n"
            ],
            "text/plain": [
              "\u001b[1mModel: \"functional\"\u001b[0m\n"
            ]
          },
          "metadata": {},
          "output_type": "display_data"
        },
        {
          "data": {
            "text/html": [
              "<pre style=\"white-space:pre;overflow-x:auto;line-height:normal;font-family:Menlo,'DejaVu Sans Mono',consolas,'Courier New',monospace\">┏━━━━━━━━━━━━━━━━━━━━━━━━━━━━━━━━━━━━━━┳━━━━━━━━━━━━━━━━━━━━━━━━━━━━━┳━━━━━━━━━━━━━━━━━┓\n",
              "┃<span style=\"font-weight: bold\"> Layer (type)                         </span>┃<span style=\"font-weight: bold\"> Output Shape                </span>┃<span style=\"font-weight: bold\">         Param # </span>┃\n",
              "┡━━━━━━━━━━━━━━━━━━━━━━━━━━━━━━━━━━━━━━╇━━━━━━━━━━━━━━━━━━━━━━━━━━━━━╇━━━━━━━━━━━━━━━━━┩\n",
              "│ word_input (<span style=\"color: #0087ff; text-decoration-color: #0087ff\">InputLayer</span>)              │ (<span style=\"color: #00d7ff; text-decoration-color: #00d7ff\">None</span>, <span style=\"color: #00af00; text-decoration-color: #00af00\">50</span>)                  │               <span style=\"color: #00af00; text-decoration-color: #00af00\">0</span> │\n",
              "├──────────────────────────────────────┼─────────────────────────────┼─────────────────┤\n",
              "│ word_embedding (<span style=\"color: #0087ff; text-decoration-color: #0087ff\">Embedding</span>)           │ (<span style=\"color: #00d7ff; text-decoration-color: #00d7ff\">None</span>, <span style=\"color: #00af00; text-decoration-color: #00af00\">50</span>, <span style=\"color: #00af00; text-decoration-color: #00af00\">100</span>)             │       <span style=\"color: #00af00; text-decoration-color: #00af00\">2,532,600</span> │\n",
              "├──────────────────────────────────────┼─────────────────────────────┼─────────────────┤\n",
              "│ word_gru (<span style=\"color: #0087ff; text-decoration-color: #0087ff\">Bidirectional</span>)             │ (<span style=\"color: #00d7ff; text-decoration-color: #00d7ff\">None</span>, <span style=\"color: #00af00; text-decoration-color: #00af00\">50</span>, <span style=\"color: #00af00; text-decoration-color: #00af00\">100</span>)             │          <span style=\"color: #00af00; text-decoration-color: #00af00\">45,600</span> │\n",
              "├──────────────────────────────────────┼─────────────────────────────┼─────────────────┤\n",
              "│ word_dense (<span style=\"color: #0087ff; text-decoration-color: #0087ff\">Dense</span>)                   │ (<span style=\"color: #00d7ff; text-decoration-color: #00d7ff\">None</span>, <span style=\"color: #00af00; text-decoration-color: #00af00\">50</span>, <span style=\"color: #00af00; text-decoration-color: #00af00\">100</span>)             │          <span style=\"color: #00af00; text-decoration-color: #00af00\">10,100</span> │\n",
              "├──────────────────────────────────────┼─────────────────────────────┼─────────────────┤\n",
              "│ word_attention (<span style=\"color: #0087ff; text-decoration-color: #0087ff\">AttentionLayer</span>)      │ [(<span style=\"color: #00d7ff; text-decoration-color: #00d7ff\">None</span>, <span style=\"color: #00af00; text-decoration-color: #00af00\">100</span>), (<span style=\"color: #00d7ff; text-decoration-color: #00d7ff\">None</span>, <span style=\"color: #00af00; text-decoration-color: #00af00\">100</span>,   │               <span style=\"color: #00af00; text-decoration-color: #00af00\">0</span> │\n",
              "│                                      │ <span style=\"color: #00af00; text-decoration-color: #00af00\">1</span>)]                         │                 │\n",
              "└──────────────────────────────────────┴─────────────────────────────┴─────────────────┘\n",
              "</pre>\n"
            ],
            "text/plain": [
              "┏━━━━━━━━━━━━━━━━━━━━━━━━━━━━━━━━━━━━━━┳━━━━━━━━━━━━━━━━━━━━━━━━━━━━━┳━━━━━━━━━━━━━━━━━┓\n",
              "┃\u001b[1m \u001b[0m\u001b[1mLayer (type)                        \u001b[0m\u001b[1m \u001b[0m┃\u001b[1m \u001b[0m\u001b[1mOutput Shape               \u001b[0m\u001b[1m \u001b[0m┃\u001b[1m \u001b[0m\u001b[1m        Param #\u001b[0m\u001b[1m \u001b[0m┃\n",
              "┡━━━━━━━━━━━━━━━━━━━━━━━━━━━━━━━━━━━━━━╇━━━━━━━━━━━━━━━━━━━━━━━━━━━━━╇━━━━━━━━━━━━━━━━━┩\n",
              "│ word_input (\u001b[38;5;33mInputLayer\u001b[0m)              │ (\u001b[38;5;45mNone\u001b[0m, \u001b[38;5;34m50\u001b[0m)                  │               \u001b[38;5;34m0\u001b[0m │\n",
              "├──────────────────────────────────────┼─────────────────────────────┼─────────────────┤\n",
              "│ word_embedding (\u001b[38;5;33mEmbedding\u001b[0m)           │ (\u001b[38;5;45mNone\u001b[0m, \u001b[38;5;34m50\u001b[0m, \u001b[38;5;34m100\u001b[0m)             │       \u001b[38;5;34m2,532,600\u001b[0m │\n",
              "├──────────────────────────────────────┼─────────────────────────────┼─────────────────┤\n",
              "│ word_gru (\u001b[38;5;33mBidirectional\u001b[0m)             │ (\u001b[38;5;45mNone\u001b[0m, \u001b[38;5;34m50\u001b[0m, \u001b[38;5;34m100\u001b[0m)             │          \u001b[38;5;34m45,600\u001b[0m │\n",
              "├──────────────────────────────────────┼─────────────────────────────┼─────────────────┤\n",
              "│ word_dense (\u001b[38;5;33mDense\u001b[0m)                   │ (\u001b[38;5;45mNone\u001b[0m, \u001b[38;5;34m50\u001b[0m, \u001b[38;5;34m100\u001b[0m)             │          \u001b[38;5;34m10,100\u001b[0m │\n",
              "├──────────────────────────────────────┼─────────────────────────────┼─────────────────┤\n",
              "│ word_attention (\u001b[38;5;33mAttentionLayer\u001b[0m)      │ [(\u001b[38;5;45mNone\u001b[0m, \u001b[38;5;34m100\u001b[0m), (\u001b[38;5;45mNone\u001b[0m, \u001b[38;5;34m100\u001b[0m,   │               \u001b[38;5;34m0\u001b[0m │\n",
              "│                                      │ \u001b[38;5;34m1\u001b[0m)]                         │                 │\n",
              "└──────────────────────────────────────┴─────────────────────────────┴─────────────────┘\n"
            ]
          },
          "metadata": {},
          "output_type": "display_data"
        },
        {
          "data": {
            "text/html": [
              "<pre style=\"white-space:pre;overflow-x:auto;line-height:normal;font-family:Menlo,'DejaVu Sans Mono',consolas,'Courier New',monospace\"><span style=\"font-weight: bold\"> Total params: </span><span style=\"color: #00af00; text-decoration-color: #00af00\">2,588,300</span> (9.87 MB)\n",
              "</pre>\n"
            ],
            "text/plain": [
              "\u001b[1m Total params: \u001b[0m\u001b[38;5;34m2,588,300\u001b[0m (9.87 MB)\n"
            ]
          },
          "metadata": {},
          "output_type": "display_data"
        },
        {
          "data": {
            "text/html": [
              "<pre style=\"white-space:pre;overflow-x:auto;line-height:normal;font-family:Menlo,'DejaVu Sans Mono',consolas,'Courier New',monospace\"><span style=\"font-weight: bold\"> Trainable params: </span><span style=\"color: #00af00; text-decoration-color: #00af00\">55,700</span> (217.58 KB)\n",
              "</pre>\n"
            ],
            "text/plain": [
              "\u001b[1m Trainable params: \u001b[0m\u001b[38;5;34m55,700\u001b[0m (217.58 KB)\n"
            ]
          },
          "metadata": {},
          "output_type": "display_data"
        },
        {
          "data": {
            "text/html": [
              "<pre style=\"white-space:pre;overflow-x:auto;line-height:normal;font-family:Menlo,'DejaVu Sans Mono',consolas,'Courier New',monospace\"><span style=\"font-weight: bold\"> Non-trainable params: </span><span style=\"color: #00af00; text-decoration-color: #00af00\">2,532,600</span> (9.66 MB)\n",
              "</pre>\n"
            ],
            "text/plain": [
              "\u001b[1m Non-trainable params: \u001b[0m\u001b[38;5;34m2,532,600\u001b[0m (9.66 MB)\n"
            ]
          },
          "metadata": {},
          "output_type": "display_data"
        },
        {
          "name": "stdout",
          "output_type": "stream",
          "text": [
            "None\n"
          ]
        },
        {
          "data": {
            "text/html": [
              "<pre style=\"white-space:pre;overflow-x:auto;line-height:normal;font-family:Menlo,'DejaVu Sans Mono',consolas,'Courier New',monospace\"><span style=\"font-weight: bold\">Model: \"functional_1\"</span>\n",
              "</pre>\n"
            ],
            "text/plain": [
              "\u001b[1mModel: \"functional_1\"\u001b[0m\n"
            ]
          },
          "metadata": {},
          "output_type": "display_data"
        },
        {
          "data": {
            "text/html": [
              "<pre style=\"white-space:pre;overflow-x:auto;line-height:normal;font-family:Menlo,'DejaVu Sans Mono',consolas,'Courier New',monospace\">┏━━━━━━━━━━━━━━━━━━━━━━━━━━━━━━━━━━━━━━┳━━━━━━━━━━━━━━━━━━━━━━━━━━━━━┳━━━━━━━━━━━━━━━━━┓\n",
              "┃<span style=\"font-weight: bold\"> Layer (type)                         </span>┃<span style=\"font-weight: bold\"> Output Shape                </span>┃<span style=\"font-weight: bold\">         Param # </span>┃\n",
              "┡━━━━━━━━━━━━━━━━━━━━━━━━━━━━━━━━━━━━━━╇━━━━━━━━━━━━━━━━━━━━━━━━━━━━━╇━━━━━━━━━━━━━━━━━┩\n",
              "│ sent_input (<span style=\"color: #0087ff; text-decoration-color: #0087ff\">InputLayer</span>)              │ (<span style=\"color: #00d7ff; text-decoration-color: #00d7ff\">None</span>, <span style=\"color: #00af00; text-decoration-color: #00af00\">40</span>, <span style=\"color: #00af00; text-decoration-color: #00af00\">50</span>)              │               <span style=\"color: #00af00; text-decoration-color: #00af00\">0</span> │\n",
              "├──────────────────────────────────────┼─────────────────────────────┼─────────────────┤\n",
              "│ sent_linking (<span style=\"color: #0087ff; text-decoration-color: #0087ff\">TimeDistributed</span>)       │ (<span style=\"color: #00d7ff; text-decoration-color: #00d7ff\">None</span>, <span style=\"color: #00af00; text-decoration-color: #00af00\">40</span>, <span style=\"color: #00af00; text-decoration-color: #00af00\">100</span>)             │       <span style=\"color: #00af00; text-decoration-color: #00af00\">2,588,300</span> │\n",
              "├──────────────────────────────────────┼─────────────────────────────┼─────────────────┤\n",
              "│ sent_gru (<span style=\"color: #0087ff; text-decoration-color: #0087ff\">Bidirectional</span>)             │ (<span style=\"color: #00d7ff; text-decoration-color: #00d7ff\">None</span>, <span style=\"color: #00af00; text-decoration-color: #00af00\">40</span>, <span style=\"color: #00af00; text-decoration-color: #00af00\">100</span>)             │          <span style=\"color: #00af00; text-decoration-color: #00af00\">45,600</span> │\n",
              "├──────────────────────────────────────┼─────────────────────────────┼─────────────────┤\n",
              "│ sent_dense (<span style=\"color: #0087ff; text-decoration-color: #0087ff\">Dense</span>)                   │ (<span style=\"color: #00d7ff; text-decoration-color: #00d7ff\">None</span>, <span style=\"color: #00af00; text-decoration-color: #00af00\">40</span>, <span style=\"color: #00af00; text-decoration-color: #00af00\">100</span>)             │          <span style=\"color: #00af00; text-decoration-color: #00af00\">10,100</span> │\n",
              "├──────────────────────────────────────┼─────────────────────────────┼─────────────────┤\n",
              "│ sent_attention (<span style=\"color: #0087ff; text-decoration-color: #0087ff\">AttentionLayer</span>)      │ [(<span style=\"color: #00d7ff; text-decoration-color: #00d7ff\">None</span>, <span style=\"color: #00af00; text-decoration-color: #00af00\">100</span>), (<span style=\"color: #00d7ff; text-decoration-color: #00d7ff\">None</span>, <span style=\"color: #00af00; text-decoration-color: #00af00\">100</span>,   │               <span style=\"color: #00af00; text-decoration-color: #00af00\">0</span> │\n",
              "│                                      │ <span style=\"color: #00af00; text-decoration-color: #00af00\">1</span>)]                         │                 │\n",
              "├──────────────────────────────────────┼─────────────────────────────┼─────────────────┤\n",
              "│ sent_dropout (<span style=\"color: #0087ff; text-decoration-color: #0087ff\">Dropout</span>)               │ (<span style=\"color: #00d7ff; text-decoration-color: #00d7ff\">None</span>, <span style=\"color: #00af00; text-decoration-color: #00af00\">100</span>)                 │               <span style=\"color: #00af00; text-decoration-color: #00af00\">0</span> │\n",
              "├──────────────────────────────────────┼─────────────────────────────┼─────────────────┤\n",
              "│ output (<span style=\"color: #0087ff; text-decoration-color: #0087ff\">Dense</span>)                       │ (<span style=\"color: #00d7ff; text-decoration-color: #00d7ff\">None</span>, <span style=\"color: #00af00; text-decoration-color: #00af00\">5</span>)                   │             <span style=\"color: #00af00; text-decoration-color: #00af00\">505</span> │\n",
              "└──────────────────────────────────────┴─────────────────────────────┴─────────────────┘\n",
              "</pre>\n"
            ],
            "text/plain": [
              "┏━━━━━━━━━━━━━━━━━━━━━━━━━━━━━━━━━━━━━━┳━━━━━━━━━━━━━━━━━━━━━━━━━━━━━┳━━━━━━━━━━━━━━━━━┓\n",
              "┃\u001b[1m \u001b[0m\u001b[1mLayer (type)                        \u001b[0m\u001b[1m \u001b[0m┃\u001b[1m \u001b[0m\u001b[1mOutput Shape               \u001b[0m\u001b[1m \u001b[0m┃\u001b[1m \u001b[0m\u001b[1m        Param #\u001b[0m\u001b[1m \u001b[0m┃\n",
              "┡━━━━━━━━━━━━━━━━━━━━━━━━━━━━━━━━━━━━━━╇━━━━━━━━━━━━━━━━━━━━━━━━━━━━━╇━━━━━━━━━━━━━━━━━┩\n",
              "│ sent_input (\u001b[38;5;33mInputLayer\u001b[0m)              │ (\u001b[38;5;45mNone\u001b[0m, \u001b[38;5;34m40\u001b[0m, \u001b[38;5;34m50\u001b[0m)              │               \u001b[38;5;34m0\u001b[0m │\n",
              "├──────────────────────────────────────┼─────────────────────────────┼─────────────────┤\n",
              "│ sent_linking (\u001b[38;5;33mTimeDistributed\u001b[0m)       │ (\u001b[38;5;45mNone\u001b[0m, \u001b[38;5;34m40\u001b[0m, \u001b[38;5;34m100\u001b[0m)             │       \u001b[38;5;34m2,588,300\u001b[0m │\n",
              "├──────────────────────────────────────┼─────────────────────────────┼─────────────────┤\n",
              "│ sent_gru (\u001b[38;5;33mBidirectional\u001b[0m)             │ (\u001b[38;5;45mNone\u001b[0m, \u001b[38;5;34m40\u001b[0m, \u001b[38;5;34m100\u001b[0m)             │          \u001b[38;5;34m45,600\u001b[0m │\n",
              "├──────────────────────────────────────┼─────────────────────────────┼─────────────────┤\n",
              "│ sent_dense (\u001b[38;5;33mDense\u001b[0m)                   │ (\u001b[38;5;45mNone\u001b[0m, \u001b[38;5;34m40\u001b[0m, \u001b[38;5;34m100\u001b[0m)             │          \u001b[38;5;34m10,100\u001b[0m │\n",
              "├──────────────────────────────────────┼─────────────────────────────┼─────────────────┤\n",
              "│ sent_attention (\u001b[38;5;33mAttentionLayer\u001b[0m)      │ [(\u001b[38;5;45mNone\u001b[0m, \u001b[38;5;34m100\u001b[0m), (\u001b[38;5;45mNone\u001b[0m, \u001b[38;5;34m100\u001b[0m,   │               \u001b[38;5;34m0\u001b[0m │\n",
              "│                                      │ \u001b[38;5;34m1\u001b[0m)]                         │                 │\n",
              "├──────────────────────────────────────┼─────────────────────────────┼─────────────────┤\n",
              "│ sent_dropout (\u001b[38;5;33mDropout\u001b[0m)               │ (\u001b[38;5;45mNone\u001b[0m, \u001b[38;5;34m100\u001b[0m)                 │               \u001b[38;5;34m0\u001b[0m │\n",
              "├──────────────────────────────────────┼─────────────────────────────┼─────────────────┤\n",
              "│ output (\u001b[38;5;33mDense\u001b[0m)                       │ (\u001b[38;5;45mNone\u001b[0m, \u001b[38;5;34m5\u001b[0m)                   │             \u001b[38;5;34m505\u001b[0m │\n",
              "└──────────────────────────────────────┴─────────────────────────────┴─────────────────┘\n"
            ]
          },
          "metadata": {},
          "output_type": "display_data"
        },
        {
          "data": {
            "text/html": [
              "<pre style=\"white-space:pre;overflow-x:auto;line-height:normal;font-family:Menlo,'DejaVu Sans Mono',consolas,'Courier New',monospace\"><span style=\"font-weight: bold\"> Total params: </span><span style=\"color: #00af00; text-decoration-color: #00af00\">2,644,505</span> (10.09 MB)\n",
              "</pre>\n"
            ],
            "text/plain": [
              "\u001b[1m Total params: \u001b[0m\u001b[38;5;34m2,644,505\u001b[0m (10.09 MB)\n"
            ]
          },
          "metadata": {},
          "output_type": "display_data"
        },
        {
          "data": {
            "text/html": [
              "<pre style=\"white-space:pre;overflow-x:auto;line-height:normal;font-family:Menlo,'DejaVu Sans Mono',consolas,'Courier New',monospace\"><span style=\"font-weight: bold\"> Trainable params: </span><span style=\"color: #00af00; text-decoration-color: #00af00\">111,905</span> (437.13 KB)\n",
              "</pre>\n"
            ],
            "text/plain": [
              "\u001b[1m Trainable params: \u001b[0m\u001b[38;5;34m111,905\u001b[0m (437.13 KB)\n"
            ]
          },
          "metadata": {},
          "output_type": "display_data"
        },
        {
          "data": {
            "text/html": [
              "<pre style=\"white-space:pre;overflow-x:auto;line-height:normal;font-family:Menlo,'DejaVu Sans Mono',consolas,'Courier New',monospace\"><span style=\"font-weight: bold\"> Non-trainable params: </span><span style=\"color: #00af00; text-decoration-color: #00af00\">2,532,600</span> (9.66 MB)\n",
              "</pre>\n"
            ],
            "text/plain": [
              "\u001b[1m Non-trainable params: \u001b[0m\u001b[38;5;34m2,532,600\u001b[0m (9.66 MB)\n"
            ]
          },
          "metadata": {},
          "output_type": "display_data"
        },
        {
          "name": "stdout",
          "output_type": "stream",
          "text": [
            "None\n"
          ]
        },
        {
          "data": {
            "image/png": "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\n",
            "text/plain": [
              "<IPython.core.display.Image object>"
            ]
          },
          "execution_count": 55,
          "metadata": {},
          "output_type": "execute_result"
        }
      ],
      "source": [
        "\"\"\"\n",
        "Create Keras functional model for hierarchical attention network\n",
        "\"\"\"\n",
        "embedding_layer = Embedding(len(word_index) + 1,EMBED_SIZE,weights=[embedding_matrix],\n",
        "                            input_length=MAX_WORD_NUM, trainable=False,name='word_embedding')\n",
        "\n",
        "# Words level attention model\n",
        "word_input = Input(shape=(MAX_WORD_NUM,), dtype='int32',name='word_input')\n",
        "word_sequences = embedding_layer(word_input)\n",
        "word_gru = Bidirectional(GRU(50, return_sequences=True),name='word_gru')(word_sequences)\n",
        "word_dense = Dense(100, activation='relu', name='word_dense')(word_gru)\n",
        "word_att,word_coeffs = AttentionLayer(EMBED_SIZE,True,name='word_attention')(word_dense)\n",
        "wordEncoder = Model(inputs = word_input,outputs = word_att)\n",
        "\n",
        "# Sentence level attention model\n",
        "sent_input = Input(shape=(MAX_SENTENCE_NUM,MAX_WORD_NUM), dtype='int32',name='sent_input')\n",
        "sent_encoder = TimeDistributed(wordEncoder,name='sent_linking')(sent_input)\n",
        "sent_gru = Bidirectional(GRU(50, return_sequences=True),name='sent_gru')(sent_encoder)\n",
        "sent_dense = Dense(100, activation='relu', name='sent_dense')(sent_gru)\n",
        "sent_att,sent_coeffs = AttentionLayer(EMBED_SIZE,return_coefficients=True,name='sent_attention')(sent_dense)\n",
        "sent_drop = Dropout(0.5,name='sent_dropout')(sent_att)\n",
        "preds = Dense(5, activation='softmax',name='output')(sent_drop)\n",
        "\n",
        "# Model compile\n",
        "model = Model(sent_input, preds)\n",
        "model.compile(loss='categorical_crossentropy',optimizer='adam',metrics=['acc'])\n",
        "print(wordEncoder.summary())\n",
        "print(model.summary())\n",
        "\n",
        "plot_model(model, to_file='model.png',show_shapes=True)\n",
        "plot_model(wordEncoder, to_file='wordEncoder.png',show_shapes=True)"
      ]
    },
    {
      "cell_type": "markdown",
      "metadata": {
        "id": "4jxoCvJ0Vm2J"
      },
      "source": [
        "**TRAIN**"
      ]
    },
    {
      "cell_type": "code",
      "execution_count": null,
      "metadata": {
        "colab": {
          "base_uri": "https://localhost:8080/",
          "height": 1000
        },
        "id": "TwecyFw-VsMq",
        "outputId": "cc234aa6-20cc-4d7a-b576-edb982dd8bd3"
      },
      "outputs": [
        {
          "name": "stdout",
          "output_type": "stream",
          "text": [
            "Epoch 1/7\n",
            "\u001b[1m36/36\u001b[0m \u001b[32m━━━━━━━━━━━━━━━━━━━━\u001b[0m\u001b[37m\u001b[0m \u001b[1m312s\u001b[0m 4s/step - acc: 0.3385 - loss: 1.5449 - val_acc: 0.8604 - val_loss: 0.6714\n",
            "Epoch 2/7\n",
            "\u001b[1m36/36\u001b[0m \u001b[32m━━━━━━━━━━━━━━━━━━━━\u001b[0m\u001b[37m\u001b[0m \u001b[1m175s\u001b[0m 3s/step - acc: 0.7999 - loss: 0.6154 - val_acc: 0.9369 - val_loss: 0.1937\n",
            "Epoch 3/7\n",
            "\u001b[1m36/36\u001b[0m \u001b[32m━━━━━━━━━━━━━━━━━━━━\u001b[0m\u001b[37m\u001b[0m \u001b[1m120s\u001b[0m 3s/step - acc: 0.9153 - loss: 0.2526 - val_acc: 0.9730 - val_loss: 0.0878\n",
            "Epoch 4/7\n",
            "\u001b[1m36/36\u001b[0m \u001b[32m━━━━━━━━━━━━━━━━━━━━\u001b[0m\u001b[37m\u001b[0m \u001b[1m142s\u001b[0m 3s/step - acc: 0.9679 - loss: 0.1084 - val_acc: 0.9820 - val_loss: 0.0629\n",
            "Epoch 5/7\n",
            "\u001b[1m36/36\u001b[0m \u001b[32m━━━━━━━━━━━━━━━━━━━━\u001b[0m\u001b[37m\u001b[0m \u001b[1m140s\u001b[0m 3s/step - acc: 0.9764 - loss: 0.0876 - val_acc: 0.9730 - val_loss: 0.0855\n",
            "Epoch 6/7\n",
            "\u001b[1m36/36\u001b[0m \u001b[32m━━━━━━━━━━━━━━━━━━━━\u001b[0m\u001b[37m\u001b[0m \u001b[1m143s\u001b[0m 3s/step - acc: 0.9736 - loss: 0.0782 - val_acc: 0.9775 - val_loss: 0.0581\n",
            "Epoch 7/7\n",
            "\u001b[1m36/36\u001b[0m \u001b[32m━━━━━━━━━━━━━━━━━━━━\u001b[0m\u001b[37m\u001b[0m \u001b[1m142s\u001b[0m 3s/step - acc: 0.9779 - loss: 0.0713 - val_acc: 0.9730 - val_loss: 0.0704\n",
            "dict_keys(['acc', 'loss', 'val_acc', 'val_loss'])\n"
          ]
        },
        {
          "data": {
            "image/png": "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\n",
            "text/plain": [
              "<Figure size 640x480 with 1 Axes>"
            ]
          },
          "metadata": {},
          "output_type": "display_data"
        },
        {
          "data": {
            "image/png": "iVBORw0KGgoAAAANSUhEUgAAAjcAAAHHCAYAAABDUnkqAAAAOnRFWHRTb2Z0d2FyZQBNYXRwbG90bGliIHZlcnNpb24zLjEwLjAsIGh0dHBzOi8vbWF0cGxvdGxpYi5vcmcvlHJYcgAAAAlwSFlzAAAPYQAAD2EBqD+naQAAXdZJREFUeJzt3Xl4U3X+9vF3ljZp6UYptAXKvm8FAbGgo4xFQMVdGHUGcH1k3Bl/Ki5szoDjiMOoCOqo6Myo4IYLCAKyKKAIiCL7Koi0pUD3PTnPH2kDhVJKaXuS9H5d17l6cnKSfBIKuflux2IYhoGIiIhIgLCaXYCIiIhITVK4ERERkYCicCMiIiIBReFGREREAorCjYiIiAQUhRsREREJKAo3IiIiElAUbkRERCSgKNyIiIhIQFG4ERGft2/fPiwWC7Nnzz7rxy5fvhyLxcLy5csrPW/27NlYLBb27dtXrRpFxHco3IiIiEhAUbgRERGRgKJwIyIiIgFF4UZEzmjixIlYLBZ27NjBH//4RyIjI2ncuDFPPfUUhmFw4MABrr76aiIiIoiLi2PatGmnPEdaWhq33347sbGxOJ1OEhMTeeutt045LyMjg9GjRxMZGUlUVBSjRo0iIyOjwrq2bdvGDTfcQHR0NE6nkz59+vDpp5/W6Ht/+eWX6dq1Kw6Hg6ZNm3LPPfecUs/OnTu5/vrriYuLw+l00rx5c/7whz+QmZnpPWfx4sVceOGFREVFERYWRseOHXn88cdrtFYR8bCbXYCI+I8RI0bQuXNnnnnmGebPn89f//pXoqOjeeWVV/j973/P3//+d/73v//x8MMP07dvX373u98BkJ+fzyWXXMKuXbu49957ad26Ne+//z6jR48mIyODBx54AADDMLj66qv55ptvuPvuu+ncuTMff/wxo0aNOqWWzZs3M2DAAJo1a8Zjjz1GgwYNmDt3Ltdccw0ffvgh11577Tm/34kTJzJp0iSSk5MZM2YM27dvZ+bMmXz//fesWrWKoKAgioqKGDx4MIWFhdx3333ExcVx8OBBPv/8czIyMoiMjGTz5s1ceeWV9OjRg8mTJ+NwONi1axerVq065xpFpAKGiMgZTJgwwQCMu+66y3uspKTEaN68uWGxWIxnnnnGe/zYsWNGSEiIMWrUKO+x6dOnG4Dx3//+13usqKjISEpKMsLCwoysrCzDMAxj3rx5BmA8++yz5V7noosuMgDjzTff9B6/9NJLje7duxsFBQXeY2632+jfv7/Rvn1777Fly5YZgLFs2bJK3+Obb75pAMbevXsNwzCMtLQ0Izg42LjssssMl8vlPe+ll14yAOONN94wDMMwfvjhBwMw3n///dM+9z//+U8DMA4fPlxpDSJSM9QtJSJVdscdd3j3bTYbffr0wTAMbr/9du/xqKgoOnbsyJ49e7zHFixYQFxcHDfddJP3WFBQEPfffz85OTmsWLHCe57dbmfMmDHlXue+++4rV8fRo0f56quvGD58ONnZ2aSnp5Oens6RI0cYPHgwO3fu5ODBg+f0XpcsWUJRUREPPvggVuvxfyrvvPNOIiIimD9/PgCRkZEALFq0iLy8vAqfKyoqCoBPPvkEt9t9TnWJyJkp3IhIlbVo0aLc7cjISJxOJzExMaccP3bsmPf2L7/8Qvv27cuFBIDOnTt77y/7GR8fT1hYWLnzOnbsWO72rl27MAyDp556isaNG5fbJkyYAHjG+JyLsppOfu3g4GDatGnjvb9169aMHTuWf//738TExDB48GBmzJhRbrzNiBEjGDBgAHfccQexsbH84Q9/YO7cuQo6IrVEY25EpMpsNluVjoFn/ExtKQsFDz/8MIMHD67wnHbt2tXa659s2rRpjB49mk8++YQvv/yS+++/n6lTp/Ltt9/SvHlzQkJCWLlyJcuWLWP+/PksXLiQOXPm8Pvf/54vv/zytJ+hiFSPWm5EpNa1bNmSnTt3ntJSsW3bNu/9ZT8PHTpETk5OufO2b99e7nabNm0AT9dWcnJyhVt4ePg511zRaxcVFbF3717v/WW6d+/Ok08+ycqVK/n66685ePAgs2bN8t5vtVq59NJLef7559myZQt/+9vf+Oqrr1i2bNk51Skip1K4EZFad/nll5OSksKcOXO8x0pKSnjxxRcJCwvj4osv9p5XUlLCzJkzvee5XC5efPHFcs/XpEkTLrnkEl555RUOHTp0yusdPnz4nGtOTk4mODiYF154oVwr1Ouvv05mZiZXXHEFAFlZWZSUlJR7bPfu3bFarRQWFgKeMUIn69mzJ4D3HBGpOeqWEpFad9ddd/HKK68wevRo1q9fT6tWrfjggw9YtWoV06dP97ayDBs2jAEDBvDYY4+xb98+unTpwkcffVRu/EqZGTNmcOGFF9K9e3fuvPNO2rRpQ2pqKmvWrOHXX3/lxx9/PKeaGzduzLhx45g0aRJDhgzhqquuYvv27bz88sv07duXP/7xjwB89dVX3Hvvvdx444106NCBkpIS/vOf/2Cz2bj++usBmDx5MitXruSKK66gZcuWpKWl8fLLL9O8eXMuvPDCc6pTRE6lcCMitS4kJITly5fz2GOP8dZbb5GVlUXHjh158803GT16tPc8q9XKp59+yoMPPsh///tfLBYLV111FdOmTaNXr17lnrNLly6sW7eOSZMmMXv2bI4cOUKTJk3o1asX48ePr5G6J06cSOPGjXnppZd46KGHiI6O5q677mLKlCkEBQUBkJiYyODBg/nss884ePAgoaGhJCYm8sUXX3DBBRcAcNVVV7Fv3z7eeOMN0tPTiYmJ4eKLL2bSpEne2VYiUnMsRm2O+hMRERGpYxpzIyIiIgFF4UZEREQCisKNiIiIBBSFGxEREQkoCjciIiISUBRuREREJKDUu3Vu3G43v/32G+Hh4VgsFrPLERERkSowDIPs7GyaNm16ykV4T1bvws1vv/1GQkKC2WWIiIhINRw4cIDmzZtXek69Czdly7wfOHCAiIgIk6sRERGRqsjKyiIhIaFKF8Wtd+GmrCsqIiJC4UZERMTPVGVIiQYUi4iISEBRuBEREZGAonAjIiIiAaXejbmpKpfLRXFxsdllSA0ICgrCZrOZXYaIiNQRhZuTGIZBSkoKGRkZZpciNSgqKoq4uDitbSQiUg8o3JykLNg0adKE0NBQfRn6OcMwyMvLIy0tDYD4+HiTKxIRkdqmcHMCl8vlDTaNGjUyuxypISEhIQCkpaXRpEkTdVGJiAQ4UwcUr1y5kmHDhtG0aVMsFgvz5s2r8mNXrVqF3W6nZ8+eNVZP2Rib0NDQGntO8Q1lf6YaRyUiEvhMDTe5ubkkJiYyY8aMs3pcRkYGI0eO5NJLL62VutQVFXj0ZyoiUn+Y2i01dOhQhg4detaPu/vuu7n55pux2Wxn1dojIiIigc/v1rl588032bNnDxMmTKjS+YWFhWRlZZXbpHKtWrVi+vTpZpchIiJSLX41oHjnzp089thjfP3119jtVSt96tSpTJo0qZYrM98ll1xCz549aySUfP/99zRo0ODcixIRETGB37TcuFwubr75ZiZNmkSHDh2q/Lhx48aRmZnp3Q4cOFBrNRa73OQXuWrt+c+FYRiUlJRU6dzGjRtrULWIiPgtvwk32dnZrFu3jnvvvRe73Y7dbmfy5Mn8+OOP2O12vvrqqwof53A4vFcAr80rgWfmF7PtUBYHM/Jr5fkrM3r0aFasWMG//vUvLBYLFouF2bNnY7FY+OKLL+jduzcOh4NvvvmG3bt3c/XVVxMbG0tYWBh9+/ZlyZIl5Z7v5G4pi8XCv//9b6699lpCQ0Np3749n376aR2/SxERkarxm26piIgINm3aVO7Yyy+/zFdffcUHH3xA69ata+V1DcMgv7gqrTGe8/KLXWTkBRNsP/fcGBJkq9Isn3/961/s2LGDbt26MXnyZAA2b94MwGOPPcZzzz1HmzZtaNiwIQcOHODyyy/nb3/7Gw6Hg7fffpthw4axfft2WrRocdrXmDRpEs8++yz/+Mc/ePHFF7nlllv45ZdfiI6OPuf3KSIiUpNMDTc5OTns2rXLe3vv3r1s3LiR6OhoWrRowbhx4zh48CBvv/02VquVbt26lXt8kyZNcDqdpxyvSfnFLrqMX1Rrz1+ZLZMHExp85j+iyMhIgoODCQ0NJS4uDoBt27YBMHnyZAYNGuQ9Nzo6msTERO/tp59+mo8//phPP/2Ue++997SvMXr0aG666SYApkyZwgsvvMDatWsZMmRItd6biIhIbTE13Kxbt46BAwd6b48dOxaAUaNGMXv2bA4dOsT+/fvNKi8g9OnTp9ztnJwcJk6cyPz58zl06BAlJSXk5+ef8XPu0aOHd79BgwZERER4L2kgIiLiS0wNN5dccgmGYZz2/tmzZ1f6+IkTJzJx4sSaLeokIUE2tkweXKVzi0pc7EjNwQJ0iAsnyHZuXVMhQed+mYCTZz09/PDDLF68mOeee4527doREhLCDTfcQFFRUaXPExQUVO62xWLB7Xafc30iIiI1zW/G3JjFYrFUqWsIIDTYTsPQIvKLXZS4DSJD6u7jDQ4OxuU689igVatWMXr0aK699lrA05Kzb9++Wq5ORESk7vjNbCl/ERniaeHIyq/atOua0qpVK7777jv27dtHenr6aVtV2rdvz0cffcTGjRv58ccfufnmm9UCIyIiAUXhpoZFlIabnMISSuowNDz88MPYbDa6dOlC48aNTzuG5vnnn6dhw4b079+fYcOGMXjwYM4777w6q1NERKS2WYzKBr0EoKysLCIjI8nMzDxlzZuCggL27t1L69atcTqd1X6NHSnZFJS4SIgOpWFo8LmWLDWgpv5sRUTEHJV9f59MLTe1oKz1JjOv2ORKRERE6h+Fm1pQNpA4p7AEl7teNYyJiIiYTuGmFjiDbATbrbgNg5wCtd6IiIjUJYWbWmCxWLyzpjLreNaUiIhIfadwU0sinJ5wk11QjLt+jdkWERExlcJNLQkNthFks+IyDHIK1HojIiJSVxRuaonFYjk+aypf425ERETqisJNLYp0emZNZRUUV3oNLREREak5Cje1qIHDjt1qxeU2yC1U15SIiEhdULipRRaLhYjS1htfnzXVqlUrpk+f7r1tsViYN2/eac/ft28fFouFjRs3ntPr1tTziIiIlNFVwWtZRGgQR/OKyCoopqnhxGKxmF1SlRw6dIiGDRvW6HOOHj2ajIyMcqEpISGBQ4cOERMTU6OvJSIi9ZfCTS0Lc9ixWSwUu9zkFblo4PCPjzwuLq5OXsdms9XZa4mISP2gbqlaZrVYCK/lWVOvvvoqTZs2xX3SVcivvvpqbrvtNnbv3s3VV19NbGwsYWFh9O3blyVLllT6nCd3S61du5ZevXrhdDrp06cPP/zwQ7nzXS4Xt99+O61btyYkJISOHTvyr3/9y3v/xIkTeeutt/jkk0+wWCxYLBaWL19eYbfUihUrOP/883E4HMTHx/PYY49RUnK8W++SSy7h/vvv55FHHiE6Opq4uDgmTpx49h+ciIgEJIWbMzEMKMo9py3SVoilOI/srEyMwpyqP7aKM6xuvPFGjhw5wrJly7zHjh49ysKFC7nlllvIycnh8ssvZ+nSpfzwww8MGTKEYcOGsX///io9f05ODldeeSVdunRh/fr1TJw4kYcffrjcOW63m+bNm/P++++zZcsWxo8fz+OPP87cuXMBePjhhxk+fDhDhgzh0KFDHDp0iP79+5/yWgcPHuTyyy+nb9++/Pjjj8ycOZPXX3+dv/71r+XOe+utt2jQoAHfffcdzz77LJMnT2bx4sVVej8iIhLY/KOPxEzFeTCl6Tk9RSTQvToPfPw3CG5wxtMaNmzI0KFDeeedd7j00ksB+OCDD4iJiWHgwIFYrVYSExO95z/99NN8/PHHfPrpp9x7771nfP533nkHt9vN66+/jtPppGvXrvz666+MGTPGe05QUBCTJk3y3m7dujVr1qxh7ty5DB8+nLCwMEJCQigsLKy0G+rll18mISGBl156CYvFQqdOnfjtt9949NFHGT9+PFarJ4/36NGDCRMmANC+fXteeuklli5dyqBBg874fkREJLCp5SZA3HLLLXz44YcUFhYC8L///Y8//OEPWK1WcnJyePjhh+ncuTNRUVGEhYWxdevWKrfcbN26lR49euB0Or3HkpKSTjlvxowZ9O7dm8aNGxMWFsarr75a5dc48bWSkpLKDbweMGAAOTk5/Prrr95jPXr0KPe4+Ph40tLSzuq1REQkMKnl5kyCQj0tKOcoI6+IA8fycdhtdIgNq/prV9GwYcMwDIP58+fTt29fvv76a/75z38Cni6hxYsX89xzz9GuXTtCQkK44YYbKCoqqs5bqdB7773Hww8/zLRp00hKSiI8PJx//OMffPfddzX2GicKCgoqd9tisZwy5khEROonhZszsViq1DV0JuH2EMi1UmAYFFicOINsNVDccU6nk+uuu47//e9/7Nq1i44dO3LeeecBsGrVKkaPHs21114LeMbQ7Nu3r8rP3blzZ/7zn/9QUFDgbb359ttvy52zatUq+vfvz5///Gfvsd27d5c7Jzg4GJfLdcbX+vDDDzEMw9t6s2rVKsLDw2nevHmVaxYRkfpL3VJ1xGa1EuYoW9CvdmZN3XLLLcyfP5833niDW265xXu8ffv2fPTRR2zcuJEff/yRm2+++axaOW6++WYsFgt33nknW7ZsYcGCBTz33HPlzmnfvj3r1q1j0aJF7Nixg6eeeorvv/++3DmtWrXip59+Yvv27aSnp1NcfOrn8Oc//5kDBw5w3333sW3bNj755BMmTJjA2LFjveNtREREKqNvizoUGVJ6ralaCje///3viY6OZvv27dx8883e488//zwNGzakf//+DBs2jMGDB3tbdaoiLCyMzz77jE2bNtGrVy+eeOIJ/v73v5c75//9v//Hddddx4gRI+jXrx9Hjhwp14oDcOedd9KxY0f69OlD48aNWbVq1Smv1axZMxYsWMDatWtJTEzk7rvv5vbbb+fJJ588y09DRETqK4tRz67omJWVRWRkJJmZmURERJS7r6CggL1799K6detyg2drSonLzdZDWRhAx7hwHPaa7ZqS06vtP1sREaldlX1/n0wtN3XIbrN6VyjO8vFrTYmIiPgrhZs6FlHLqxWLiIjUdwo3dSzS6Qk3eUUlFLs0dVlERKSmKdzUsSC7ldDg2p01JSIiUp8p3FSgtsdY1/asKTlVPRs3LyJSryncnKBs1du8vLxafZ2ycTe5hS5K1DVVJ8r+TE9e2VhERAKPVig+gc1mIyoqynuNotDQ0HLXOKpJwbgoLHGRnmkhKjS4Vl5DPC02eXl5pKWlERUVhc2m6fciIoFO4eYkZVesru2LMGYVFJOVX0LWYSsxYY5afS2BqKioSq9GLiIigUPh5iQWi4X4+HiaNGlS4eUBasq+9FzGvvU9QVYrH/w5iTCHuktqS1BQkFpsRETqEYWb07DZbLX6hdipuROn08nuw7ms2pvF1T2b1dpriYiI1CcaUGyiId083SQLf04xuRIREZHAoXBjoqHd4gFYvv0w+UUuk6sREREJDAo3JuraNILmDUPIL3axYsdhs8sREREJCAo3JrJYLAzpWtY1dcjkakRERAKDqeFm5cqVDBs2jKZNm2KxWJg3b16l53/00UcMGjSIxo0bExERQVJSEosWLaqbYmtJ2bibpVvTKCrRgn4iIiLnytRwk5ubS2JiIjNmzKjS+StXrmTQoEEsWLCA9evXM3DgQIYNG8YPP/xQy5XWnvNaNKRxuIPswhJW7U43uxwRERG/Z+pU8KFDhzJ06NAqnz99+vRyt6dMmcInn3zCZ599Rq9evWq4urphtVoY3DWW/367n4WbUhjYsYnZJYmIiPg1vx5z43a7yc7OJjo6+rTnFBYWkpWVVW7zNWWzphZvTdW1pkRERM6RX4eb5557jpycHIYPH37ac6ZOnUpkZKR3S0hIqMMKq+b81tFEhQZxNLeItfuOml2OiIiIX/PbcPPOO+8wadIk5s6dS5Mmp+/KGTduHJmZmd7twIEDdVhl1QTZrAzqHAvAIi3oJyIick78Mty899573HHHHcydO5fk5ORKz3U4HERERJTbfJF3teLNKbjdhsnViIiI+C+/Czfvvvsut956K++++y5XXHGF2eXUmAHtYghz2EnNKmTjrxlmlyMiIuK3TA03OTk5bNy4kY0bNwKwd+9eNm7cyP79+wFPl9LIkSO957/zzjuMHDmSadOm0a9fP1JSUkhJSSEzM9OM8muUM8jGwE6e7jVda0pERKT6TA0369ato1evXt5p3GPHjqVXr16MHz8egEOHDnmDDsCrr75KSUkJ99xzD/Hx8d7tgQceMKX+mjb0hAtpGoa6pkRERKrDYtSzb9GsrCwiIyPJzMz0ufE3uYUlnPf0YgpL3My//0K6No00uyQRERGfcDbf33435iaQNXDYubhDY0CzpkRERKpL4cbHlM2a+kLhRkREpFoUbnzMpZ1jsVst7EzLYVdajtnliIiI+B2FGx8TGRJE/3YxACzarNYbERGRs6Vw44NOnDUlIiIiZ0fhxgcN6hKL1QKbDmZy4Gie2eWIiIj4FYUbHxQT5qBvK8+VztU1JSIicnYUbnyUuqZERESqR+HGRw0uDTfr9x8jLavA5GpERET8h8KNj4qPDKFnQhSGAYu2pJpdjoiIiN9QuPFhZQv6abViERGRqlO48WFDunrCzZo9RziWW2RyNSIiIv5B4caHtYppQKe4cFxugyVb1TUlIiJSFQo3Pm5ot3hAs6ZERESqSuHGx5WNu/l6Zzo5hSUmVyMiIuL7FG58XIfYMNrENKDI5earbWlmlyMiIuLzFG58nMVi8a55o1lTIiIiZ6Zw4wfKVitetj2NgmKXydWIiIj4NoUbP9C9WSTNokLIK3Kxcsdhs8sRERHxaQo3fsBisTC4q641JSIiUhUKN36ibNbUkq2pFJW4Ta5GRETEdync+IneLRsSE+Ygq6CENXuOmF2OiIiIz1K48RM2q4XLusYC6poSERGpjMKNHymbNbV4Swout2FyNSIiIr5J4caPXNCmEZEhQaTnFLFu31GzyxEREfFJCjd+JMhmJbmzp2vqC3VNiYiIVEjhxs+UzZpatDkFw1DXlIiIyMkUbvzMRe1jCA22cSizgB9/zTS7HBEREZ+jcONnnEE2BnZqAmjWlIiISEUUbvxQ2ayphT8fUteUiIjISRRu/NAlHZsQbLey70ge21OzzS5HRETEpyjc+KEwh53ftW8MwBeb1DUlIiJyIoUbP3XirCkRERE5TuHGTyV3boLdamFbSjZ703PNLkdERMRnKNz4qajQYJLaNgI0a0pERORECjd+bMgJs6ZERETEQ+HGjw3qEovFAj/+msnBjHyzyxEREfEJCjd+rEm4k74towFYpK4pERERQOHG7w0u65rSrCkRERFA4cbvlY27+X7fUQ5nF5pcjYiIiPlMDTcrV65k2LBhNG3aFIvFwrx58874mOXLl3PeeefhcDho164ds2fPrvU6fVmzqBB6NI/EMGDxllSzyxERETGdqeEmNzeXxMREZsyYUaXz9+7dyxVXXMHAgQPZuHEjDz74IHfccQeLFi2q5Up9W1nrzReaNSUiIoLdzBcfOnQoQ4cOrfL5s2bNonXr1kybNg2Azp0788033/DPf/6TwYMH11aZPm9I1zieXbidNbuPkJlXTGRokNkliYiImMavxtysWbOG5OTkcscGDx7MmjVrTvuYwsJCsrKyym2Bpk3jMDrGhlPiNliyVV1TIiJSv/lVuElJSSE2NrbcsdjYWLKyssjPr3idl6lTpxIZGendEhIS6qLUOqdZUyIiIh5+FW6qY9y4cWRmZnq3AwcOmF1SrRhaGm5W7jhMbmGJydWIiIiYx6/CTVxcHKmp5btdUlNTiYiIICQkpMLHOBwOIiIiym2BqFNcOC0bhVJY4mb59sNmlyMiImIavwo3SUlJLF26tNyxxYsXk5SUZFJFvsNisWjWlIiICCaHm5ycHDZu3MjGjRsBz1TvjRs3sn//fsDTpTRy5Ejv+XfffTd79uzhkUceYdu2bbz88svMnTuXhx56yIzyfc6Qrp5ws2xbGgXFLpOrERERMYep4WbdunX06tWLXr16ATB27Fh69erF+PHjATh06JA36AC0bt2a+fPns3jxYhITE5k2bRr//ve/6/U08BMlNo8iPtJJbpGLb3amm12OiIiIKSyGYRhmF1GXsrKyiIyMJDMzMyDH30z8dDOzV+/jht7Nee7GRLPLERERqRFn8/3tV2Nu5MzKxt0s3pJKscttcjUiIiJ1T+EmwPRtFU2jBsFk5hfz3Z6jZpcjIiJS5xRuAozNauGyrp6FDjVrSkRE6iOFmwA0pFs8AIs2p+Jy16shVSIiIgo3gSipTSPCnXbScwrZsP+Y2eWIiIjUKYWbABRstzKos6drauHPutaUiIjULwo3Acp7Ic2fU6hns/1FRKSeU7gJUBd3aExIkI2DGfn8fDDL7HJERETqjMJNgHIG2RjYqTGgWVMiIlK/KNwEsLJZU+qaEhGR+kThJoAN7NiYYJuVPem57EzLMbscERGROqFwE8DCnUFc1D4G0KwpERGpPxRuAlzZrKkvFG5ERKSeULgJcIM6x2KzWth6KItfjuSaXY6IiEitU7gJcA0bBHNBm2hAXVMiIlI/KNzUA95ZU5sVbkREJPAp3NQDg7vEYrHAD/szOJSZb3Y5IiIitUrhph5oEuGkd4uGAHy5OdXkakRERGqXwk09McQ7a0qrFYuISGBTuKknBnf1hJu1e49yJKfQ5GpERERqj8JNPZEQHUq3ZhG4DVi8RV1TIiISuBRu6pGhmjUlIiL1gMJNPVLWNbVqVzqZ+cUmVyMiIlI7FG7qkXZNwmjfJIxil8GybWlmlyMiIlIrFG7qGc2aEhGRQKdwU8+UhZsVOw6TV1RicjUiIiI1T+GmnukSH0FCdAgFxW5WbD9sdjkiIiI1TuGmnrFYLN5ZU1/oQpoiIhKAFG7qobJZU19tS6OwxGVyNSIiIjVL4aYe6pUQRWyEg5zCElbtSje7HBERkRqlcFMPWa0Wb+vNQnVNiYhIgFG4qafKZk0t3pJKicttcjUiIiI1R+Gmnjq/VTQNQ4M4llfM2r1HzS5HRESkxijc1FN2m5XLupQt6KeuKRERCRwKN/VYWdfUos0puN2GydWIiIjUDIWbeqx/u0aEO+ykZRfyw4FjZpcjIiJSIxRu6jGH3cbvOzcBNGtKREQCh8JNPTe02/FxN4ahrikREfF/Cjf13O86NMYZZOXXY/ls/i3L7HJERETOmenhZsaMGbRq1Qqn00m/fv1Yu3ZtpedPnz6djh07EhISQkJCAg899BAFBQV1VG3gCQ22c0kHdU2JiEjgMDXczJkzh7FjxzJhwgQ2bNhAYmIigwcPJi0trcLz33nnHR577DEmTJjA1q1bef3115kzZw6PP/54HVceWMpmTS3crHAjIiL+z9Rw8/zzz3PnnXdy66230qVLF2bNmkVoaChvvPFGheevXr2aAQMGcPPNN9OqVSsuu+wybrrppjO29kjlft+5CUE2C7vSctiVlm12OSIiIufEtHBTVFTE+vXrSU5OPl6M1UpycjJr1qyp8DH9+/dn/fr13jCzZ88eFixYwOWXX37a1yksLCQrK6vcJuVFOIMY0C4GUNeUiIj4P9PCTXp6Oi6Xi9jY2HLHY2NjSUmp+Av25ptvZvLkyVx44YUEBQXRtm1bLrnkkkq7paZOnUpkZKR3S0hIqNH3EShOnDUlIiLiz0wfUHw2li9fzpQpU3j55ZfZsGEDH330EfPnz+fpp58+7WPGjRtHZmamdztw4EAdVuw/kjvHYrXA5t+yOHA0z+xyREREqs1u1gvHxMRgs9lITU0tdzw1NZW4uLgKH/PUU0/xpz/9iTvuuAOA7t27k5uby1133cUTTzyB1XpqVnM4HDgcjpp/AwGmUZiDfq0bsWbPERb+nMKdv2tjdkkiIiLVYlrLTXBwML1792bp0qXeY263m6VLl5KUlFThY/Ly8k4JMDabDUAL0NUAzZoSEZFAYGq31NixY3nttdd466232Lp1K2PGjCE3N5dbb70VgJEjRzJu3Djv+cOGDWPmzJm899577N27l8WLF/PUU08xbNgwb8iR6hvc1RNu1v9yjNQsrR0kIiL+ybRuKYARI0Zw+PBhxo8fT0pKCj179mThwoXeQcb79+8v11Lz5JNPYrFYePLJJzl48CCNGzdm2LBh/O1vfzPrLQSUuEgnvVpE8cP+DL7cnMKfklqZXZKIiMhZsxj1rD8nKyuLyMhIMjMziYiIMLscn/Pqyt1MWbCN/m0b8c6dF5hdjoiICHB2399+NVtKat+QrvEAfLf3KEdzi0yuRkRE5Owp3Eg5LRqF0iU+ApfbYMmW1DM/QERExMco3MgphmrWlIiI+LFqhZu33nqL+fPne28/8sgjREVF0b9/f3755ZcaK07MUTYl/Jud6WQXFJtcjYiIyNmpVriZMmUKISEhAKxZs4YZM2bw7LPPEhMTw0MPPVSjBUrdax8bTtvGDShyuflqW8VXaBcREfFV1Qo3Bw4coF27dgDMmzeP66+/nrvuuoupU6fy9ddf12iBYg7vgn661pSIiPiZaoWbsLAwjhw5AsCXX37JoEGDAHA6neTn59dcdWKaod08s6aWbz9MfpHL5GpERESqrlrhZtCgQdxxxx3ccccd7Nixg8svvxyAzZs306pVq5qsT0zStWkEzRuGkF/sYsWOw2aXIyIiUmXVCjczZswgKSmJw4cP8+GHH9KoUSMA1q9fz0033VSjBYo5LBYLQ0ovx7BIs6ZERMSPaIViOa11+45yw6w1hDvtrH9yEMF2rRwgIiLmqPUVihcuXMg333zjvT1jxgx69uzJzTffzLFjx6rzlOKDzmvRkMbhDrILSli9O93sckRERKqkWuHm//7v/8jKygJg06ZN/OUvf+Hyyy9n7969jB07tkYLFPNYrRYGd/VcxFSzpkRExF9UK9zs3buXLl26APDhhx9y5ZVXMmXKFGbMmMEXX3xRowWKucpmTX25JRWXu171YIqIiJ+qVrgJDg4mLy8PgCVLlnDZZZcBEB0d7W3RkcBwfutookKDOJpbxNq9R80uR0RE5IyqFW4uvPBCxo4dy9NPP83atWu54oorANixYwfNmzev0QLFXEE2K4M6e7qmNGtKRET8QbXCzUsvvYTdbueDDz5g5syZNGvWDIAvvviCIUOG1GiBYr4TVyt2q2tKRER8nKaCyxkVFLvo89cl5BSW8PGf+9OrRUOzSxIRkXrmbL6/7dV9EZfLxbx589i6dSsAXbt25aqrrsJms1X3KcVHOYNsDOzUhM9+/I2FP6co3IiIiE+rVrfUrl276Ny5MyNHjuSjjz7io48+4o9//CNdu3Zl9+7dNV2j+IChZV1Tm1OoZ419IiLiZ6oVbu6//37atm3LgQMH2LBhAxs2bGD//v20bt2a+++/v6ZrFB9wcYfGOOxWfjmSx9ZD2WaXIyIiclrVCjcrVqzg2WefJTo62nusUaNGPPPMM6xYsaLGihPf0cBh5+IOjQFP642IiIivqla4cTgcZGef+r/3nJwcgoODz7ko8U3HZ00dMrkSERGR06tWuLnyyiu56667+O677zAMA8Mw+Pbbb7n77ru56qqrarpG8RGXdo7FbrWwIzWH3YdzzC5HRESkQtUKNy+88AJt27YlKSkJp9OJ0+mkf//+tGvXjunTp9dwieIrIkOC6N8uBtC1pkRExHdVayp4VFQUn3zyCbt27fJOBe/cuTPt2rWr0eL8Tuav4CqC6DZmV1JrhnaLY+WOwyzanMI9A+v5n7eIiPikKoebM13te9myZd79559/vvoV+attC+DDOyA+EUbPB2u1GsV83qAusTzx8SZ++jWTX4/l0bxhqNkliYiIlFPlcPPDDz9U6TyLxVLtYvxaXDfAgP2rYeP/4Lw/mV1RrYgJc9C3VTTf7T3Kos2p3H5ha7NLEhERKafK4ebElhmpQFQLuGQcLH7Ks3UcCg1izK6qVgzpFsd3e4+y8OdDCjciIuJzArPvxCwXjIHYbpB/DL58yuxqas3grp4p4et+OUZadoHJ1YiIiJSncFOTbEFw5XTAAj++A3tXml1RrWgaFUJiQhSGAV9uTjW7HBERkXIUbmpaQl/oc5tn//OHoKTQ3HpqSdm1phZptWIREfExCje14dLxEBYLR3bBN/80u5paMaS0a2rN7iNk5BWZXI2IiMhxCje1ISQKhkz17H89DdJ3mVpObWgV04BOceGUuA2WbE0zuxwREREvhZva0vU6aHupZ1G/+Q+BYZhdUY3TtaZERMQXKdzUFosFrpgGdqdnYPFPc8yuqMYN7RYPwMqd6eQUlphcjYiIiIfCTW2Kbg0XP+LZX/Q45B01t54a1iE2jNYxDSgqcbNsm7qmRETENyjc1Lak+6BxJ8g7AovHm11NjbJYLMe7pjRrSkREfITCTW2zB5eufQP88B/4ZbWp5dS0sllTy7alUVDsMrkaERERhZu60TIJzhvp2f/8ISgJnKnTPZpH0jTSSV6Ri693pptdjoiIiMJNnUmeBKExcHgbrH7B7GpqjMViYXBp19QXmjUlIiI+wPRwM2PGDFq1aoXT6aRfv36sXbu20vMzMjK45557iI+Px+Fw0KFDBxYsWFBH1Z6D0GgYPMWzv/IfcHSPufXUoLJZU0u2pFLscptcjYiI1Hemhps5c+YwduxYJkyYwIYNG0hMTGTw4MGkpVU886aoqIhBgwaxb98+PvjgA7Zv385rr71Gs2bN6rjyauoxHFpfDCUFMP8vAbP2Te+WDYkJCyaroIQ1u4+YXY6IiNRzpoab559/njvvvJNbb72VLl26MGvWLEJDQ3njjTcqPP+NN97g6NGjzJs3jwEDBtCqVSsuvvhiEhMT67jyarJY4IrnweaA3V/Bzx+aXVGNsFktXNZVs6ZERMQ3mBZuioqKWL9+PcnJyceLsVpJTk5mzZo1FT7m008/JSkpiXvuuYfY2Fi6devGlClTcLlOP0unsLCQrKyscpupYtrBRX/x7C8cB/kZppZTU8pmTX25OQWXOzBapERExD+ZFm7S09NxuVzExsaWOx4bG0tKSsX/+9+zZw8ffPABLpeLBQsW8NRTTzFt2jT++te/nvZ1pk6dSmRkpHdLSEio0fdRLRc+CI3aQ24aLJ1kdjU1IqltIyKcdtJzilj/yzGzyxERkXrM9AHFZ8PtdtOkSRNeffVVevfuzYgRI3jiiSeYNWvWaR8zbtw4MjMzvduBAwfqsOLTsDvgytKrha97Ew5UPojaHwTZrCR38QRVzZoSEREzmRZuYmJisNlspKamljuemppKXFxchY+Jj4+nQ4cO2Gw277HOnTuTkpJCUVHFa8c4HA4iIiLKbT6h9UWQeDNgwGcPgqvY7IrOWdmsqUU/p2AEyGBpERHxP6aFm+DgYHr37s3SpUu9x9xuN0uXLiUpKanCxwwYMIBdu3bhdh+fbrxjxw7i4+MJDg6u9Zpr3GV/hZBoSNsM375sdjXn7KL2MYQG2/gts4Cffs00uxwREamnTO2WGjt2LK+99hpvvfUWW7duZcyYMeTm5nLrrbcCMHLkSMaNG+c9f8yYMRw9epQHHniAHTt2MH/+fKZMmcI999xj1ls4Nw0awWVPe/aXPwPHfjG3nnPkDLIxsFMTQLOmRETEPKaGmxEjRvDcc88xfvx4evbsycaNG1m4cKF3kPH+/fs5dOj4+I2EhAQWLVrE999/T48ePbj//vt54IEHeOyxx8x6C+eu5y3QcgAU58GC//P7tW+Gll1IU11TIiJiEotRz76BsrKyiIyMJDMz03fG3xzeDjMHgLsYhr8NXa42u6Jqyyks4bynF1NU4mbRg7+jY1y42SWJiEgAOJvvb7+aLRWwGnf0TA8H+OJRKDB5LZ5zEOaw87v2jQHNmhIREXMo3PiKi/4C0W0g+xB8dfp1e/zBkBO6pkREROqawo2vCArxXJoBYO2rcHC9ufWcg+TOTbBbLWxLyWZfeq7Z5YiISD2jcONL2g6E7jdyfO2bErMrqpao0GCS2jYCNGtKRETqnsKNrxk8BZyRkPKTpwXHT5V1TX2hrikREaljCje+JqwJJJdeb2rZ3yDzV3PrqaZBXWKxWODHAxn8lpFvdjkiIlKPKNz4ovNGQUI/KMrxzJ7yQ03CnfRtGQ3AInVNiYhIHVK48UVWK1w5Hax22PY5bJtvdkXVMlizpkRExAQKN74qtgsk3evZX/AIFOaYW081lI27+X7fUdJzCk2uRkRE6guFG1928aMQ1QKyfoXlU82u5qw1iwqhR/NI3AZ8uTn1zA8QERGpAQo3viw49PjaN9/OhEM/mltPNXgX9NO4GxERqSMKN76u/SDoei0YLs/aN26X2RWdlSFdPeFm9a50MvOKTa5GRETqA4UbfzDkGXBEwG8bYN0bZldzVto0DqNjbDglboOl29Q1JSIitU/hxh+Ex8Gl4z37SyZBln9dkHKwFvQTEZE6pHDjL/rcBs16Q1E2LHzM7GrOytDScLNyx2FyC/3zkhIiIuI/FG78hdXmWfvGYoMt82DHl2ZXVGWd4sJp2SiUwhI3y7cfNrscEREJcAo3/iS+B1wwxrO/4C9QlGduPVVksVg0a0pEROqMwo2/uWQcRDSHjP2w4u9mV1NlZbOmvtqaSkGxf834EhER/6Jw428cYXD5Pzz7a16C1M3m1lNFic2jiI90klvkYtWudLPLERGRAKZw4486XQ6drgR3SenaN26zKzojq9XC4K6aNSUiIrVP4cZfDX0WgsPg17Ww4S2zq6mSsnE3S7amUuzy/UAmIiL+SeHGX0U2g98/6dlfMgFy0sytpwr6toqmUYNgMvKK+W7PUbPLERGRAKVw48/OvwviE6EgExY9bnY1Z2SzWrisaywACzf710KEIiLiPxRu/Jl37RsrbHofdi01u6IzKht3s2hzKm63YXI1IiISiBRu/F2z8zwtOADz/wLF+ebWcwb928YQ7rRzOLuQDfuPmV2OiIgEIIWbQDDwCQiPh2N74etpZldTqWC7leTOnq4pzZoSEZHaoHATCJwRMLR0Qb9vpsPh7aaWcyZls6bm/3SI9JxCk6sREZFAo3ATKDpfBR2GgLvY59e+ubhDY5qEO0jJKuCGmav55Uiu2SWJiEgAUbgJFBaLZ+XioFDYvxo2/s/sik7LGWTj3bsuoHnDEPYdyeO6l1fz068ZZpclIiIBQuEmkES18Fx7CmDxU5Dru5c5aNs4jI/+3J+uTSM4klvEH179lmXbfX+tHhER8X0KN4HmgjEQ2w3yj8GXT5ldTaWahDuZ8/+SuKh9DHlFLu54ax3vrztgdlkiIuLnFG4CjS3Is/YNFvjxHdi70uyKKhXmsPP6qL5c26sZLrfB/33wEy99tRPD0Bo4IiJSPQo3gSihL/S5zbP/+UNQ4tszkoLtVp4fnsiYS9oC8NyXO3jqk59xaZE/ERGpBoWbQHXpeAiLhSO74Jt/ml3NGVksFh4d0olJV3XFYoH/frufMf9dT0Gxy+zSRETEzyjcBKqQKBgy1bP/9TRI32VqOVU1qn8rXr75PILtVr7cksot//6OY7lFZpclIiJ+ROEmkHW9DtpeCq4imP8Q+Mk4lqHd4/nv7f2IcNpZ/8sxrp+1mgNH88wuS0RE/ITCTSCzWOCKaWB3egYW/zTH7Iqq7PzW0Xwwpj/xkU72HM7lupmr2fxbptlliYiIH1C4CXTRreHiRzz7i56AvKPm1nMWOsSG89Gf+9MxNpzD2YWMeOVbVu3y3bV7RETENyjc1AdJ90HjTpCXDksmmF3NWYmPDGHu3Ulc0CaanMISRr+5lnk/HDS7LBER8WE+EW5mzJhBq1atcDqd9OvXj7Vr11bpce+99x4Wi4Vrrrmmdgv0d/bg0rVvgA1vwy+rTS3nbEWGBPHWbedzRY94il0GD87ZyCsrdmstHBERqZDp4WbOnDmMHTuWCRMmsGHDBhITExk8eDBpaZUvxb9v3z4efvhhLrroojqq1M+1TILzRnr2P38ISvxrBpLDbuPFP/TitgGtAZj6xTYmf74Ft9bCERGRk5gebp5//nnuvPNObr31Vrp06cKsWbMIDQ3ljTfeOO1jXC4Xt9xyC5MmTaJNmzZ1WK2fS54EoTFweBusfsHsas6a1Wph/LAuPHlFZwDeXLWP+979QWvhiIhIOaaGm6KiItavX09ycrL3mNVqJTk5mTVr1pz2cZMnT6ZJkybcfvvtdVFm4AiNhsFTPPsr/wFH95hbTzXdcVEbXripF0E2C/M3HWLUG2vJzC82uywREfERpoab9PR0XC4XsbGx5Y7HxsaSkpJS4WO++eYbXn/9dV577bUqvUZhYSFZWVnltnqtx3BofTGUFMD8h/1m7ZuTXZXYlLduPZ9wh53v9h7lxlmrOZSZb3ZZIiLiA0zvljob2dnZ/OlPf+K1114jJiamSo+ZOnUqkZGR3i0hIaGWq/RxFgtc8TzYHLB7Kfz8odkVVVv/djHM+X9JNAl3sCM1h+teXs32lGyzyxIREZOZGm5iYmKw2WykpqaWO56amkpcXNwp5+/evZt9+/YxbNgw7HY7drudt99+m08//RS73c7u3btPecy4cePIzMz0bgcOHKi19+M3YtrBRX/x7C8cB/kZppZzLro0jeCjP/enXZMwDmUWcOOs1Xy354jZZYmIiIlMDTfBwcH07t2bpUuXeo+53W6WLl1KUlLSKed36tSJTZs2sXHjRu921VVXMXDgQDZu3Fhhq4zD4SAiIqLcJsCFD0Kj9pCbBksnmV3NOWneMJQP7k6iT8uGZBWU8KfX17Jg0yGzyxIREZOY3i01duxYXnvtNd566y22bt3KmDFjyM3N5dZbbwVg5MiRjBs3DgCn00m3bt3KbVFRUYSHh9OtWzeCg4PNfCv+xe6AK0uvFr7uTTjwvbn1nKOo0GD+e0c/BneNpcjl5p53NvDmqr1mlyUiIiYwPdyMGDGC5557jvHjx9OzZ082btzIwoULvYOM9+/fz6FD+l94rWh9ESTeDBjw+YPg8u8ZR84gGy/f0ps/XdASw4BJn21h6oKtWgtHRKSesRj1bJnXrKwsIiMjyczMVBcVQO4ReKkP5B+FQZNhwANmV3TODMPg5eW7+cei7QBc07Mpz96QSLDd9CwvIiLVdDbf3/rXvr5r0Ague9qzv/wZOPaLufXUAIvFwj0D2/HcjYnYrRbmbfyNW2evJbvAv1umRESkahRuBHreAi0HQHEeLPg/v1375mQ39G7Ov0f1ITTYxqpdRxj+yrekZRWYXZaIiNQyhRvxrH1z5T/BGgQ7F8HWT82uqMZc0rEJc+5KIiYsmK2Hsrj25dXsSssxuywREalFCjfi0bijZ3o4wBePQkHgrOTcvXkkH40ZQOuYBhzMyOeGWatZ/8tRs8sSEZFaonAjx130F4huA9mH4Ku/ml1NjWrRyLMWTmJCFBl5xdz82nd8ubniS3yIiIh/U7iR44JCPJdmAFj7Khxcb249NaxRmIN37+zHpZ2aUFji5u7/rud/3/n/AGoRESlP4UbKazsQut8IGPDZg+AqMbuiGhUabOeVP/XmD30TcBvwxMc/M+3L7dSzFRFERAKawo2cavAUcEZCyk+eFpwAY7dZmXpddx5Mbg/Ai1/t4pEPfqLY5Ta5MhERqQkKN3KqsCaQXHq9qWV/g8xfza2nFlgsFh5M7sDU67pjtcD763/lzrfXkVsYWC1VIiL1kcKNVOy8UZDQD4pyPLOnAtRN57fgtZF9cAZZWb79MDe99i3pOYVmlyUiIudA4UYqZrWWrn1jh22fw7b5ZldUay7tHMu7d15Aw9Agfvo1k+tnrmZfeq7ZZYmISDUp3MjpxXaFpHs9+wsegcLAXfyuV4uGfDimPwnRIfxyJI/rZ65m44EMs8sSEZFqULiRyl38KES1gKxfYflUs6upVW0ah/HhmP50axbBkdwibnr1W5ZtSzO7LBEROUsKN1K54NDja998OxMO/WhuPbWsSbiT9+5K4qL2MeQXu7jj7XXM/f6A2WWJiMhZULiRM2s/CLpcA4bLs/aN22V2RbUqzGHn9VF9ua5XM1xug0c+/IkXlu7UWjgiIn5C4UaqZsgz4IiA3zbAujfMrqbWBdutTBueyJ8vaQvA84t38MS8nynRWjgiIj5P4UaqJiIeLh3v2V8yCbIOmVtPHbBYLDwypBOTr+6KxQLvfLefu/+7gfyiwG65EhHxdwo3UnV9boNmvaEoGxY+ZnY1dWZkUitm3tKbYLuVJVtTueXf33Ist8jsskRE5DQUbqTqrDa4cjpYbLBlHuz40uyK6syQbnH8745+RIYEsWF/BtfPWs2Bo3lmlyUiIhVQuJGzE98DLhjj2V/wFyiqP1/wfVtF88HdSTSNdLLncC7XzVzNzwczzS5LREROonAjZ++ScRDRHDL2w4q/m11NnWofG85Hfx5Ap7hwDmcX8odXv+WbnelmlyUiIidQuJGz5wiDy//h2V/zEqRuNreeOhYX6WTu3UkktWlETmEJo99cy8c/BN7FRUVE/JXCjVRPp8uh05XgLild+6Z+TZGOcAYx+7a+DEtsSonb4KE5PzJrxW6thSMi4gMUbqT6hj4LwWHw61rY8JbZ1dQ5h93Gv0b05I4LWwPwzBfbmPTZFlxuBRwRETMp3Ej1RTaDgU949pdMgJz6dx0mq9XCk1d24ckrOgMwe/U+7nt3AwXFWgtHRMQsCjdybs6/C+IToSATFj1udjWmueOiNrxwUy+CbVYWbEph5OtrycwrNrssEZF6SeFGzo3NXrr2jRU2vQ+7lppdkWmuSmzK7Nv6Eu6ws3bfUW6YtZrfMvLNLktEpN5RuJFz1+w8TwsOwPy/QHH9/ULv3zaGuXcnERvhYGdaDte9vJptKVlmlyUiUq8o3EjNGPgEhMfDsb3w9TSzqzFV5/gIPvrzANo3CSMlq4AbZ61hze4jZpclIlJvKNxIzXBGwNDSBf2+mQ6Ht5tajtmaRYXw/t1J9G3VkOyCEka9sZbPf/rN7LJEROoFhRupOZ2vgg5DwF0Mnz8E9XzNl6jQYP5zez+GdI2jyOXmvnd/4I1v9ppdlohIwFO4kZpjsXhWLg4KhV9Wwcb/mV2R6ZxBNmbcch4jk1piGDD58y1MWbAVt9bCERGpNQo3UrOiWniuPQXw5ZOQq+su2awWJl3VlUeHdALg1ZV7eGjuRopK6teqziIidUXhRmreBWMgthvkH4MvnzK7Gp9gsVgYc0lbnh+eiN1q4ZONv3Hr7LVkFWgtHBGRmqZwIzXPFuRZ+wYL/PgO7F1pdkU+47rzmvPG6L40CLaxatcRhs9aQ2pWgdlliYgEFIUbqR0JfaHPbZ79zx+CkkJz6/Ehv+vQmDn/L4mYMAfbUrK57uXV7ErLNrssEZGAoXAjtefS8RAWC0d2eaaHi1e3ZpF8NKY/rWMacDAjn+tnrmHdvqNmlyUiEhAUbqT2hETB4Cme/a+fg/Rdppbja1o0CuXDMf3pmRBFZn4xt/z7OxZtTjG7LBERv6dwI7Wr2/XQ9lJwFcF8rX1zsugGwbx75wVc2qkJhSVuxvx3Pf/59hezyxIR8WsKN1K7LBa4YhrYnZ6BxT/NMbsinxMSbOOVP/XmpvMTcBvw1Lyf+ceibRgKgiIi1eIT4WbGjBm0atUKp9NJv379WLt27WnPfe2117joooto2LAhDRs2JDk5udLzxQdEt4aLH/HsL3oC8jS25GR2m5Up13bnoeQOAMxYtpuH3/+JYpfWwhEROVumh5s5c+YwduxYJkyYwIYNG0hMTGTw4MGkpaVVeP7y5cu56aabWLZsGWvWrCEhIYHLLruMgwcP1nHlclaS7oPGnSAvHZZMMLsan2SxWHgguT1/v747NquFDzf8yu1vrSO3sMTs0kRE/IrFMLntu1+/fvTt25eXXnoJALfbTUJCAvfddx+PPfbYGR/vcrlo2LAhL730EiNHjjzj+VlZWURGRpKZmUlERMQ51y9n4Zc18OYQz/6tX0DL/ubW48O+2pbKPf/7gfxiF92bRfLG6L40DneYXZaIiGnO5vvb1JaboqIi1q9fT3JysveY1WolOTmZNWvWVOk58vLyKC4uJjo6usL7CwsLycrKKreJSVomwXmlAfTzh6CkyNx6fNjvO8Xy7l0XEN0gmE0HMxn6r6957MOf+PTH30jP0ZpBIiKVMTXcpKen43K5iI2NLXc8NjaWlJSqTYl99NFHadq0abmAdKKpU6cSGRnp3RISEs65bjkHyZMgNAYOb4OVz4JbY0pOp2dCFB+O6U/LRqGk5xTy3vcHuP/dH+jz1yUMmb6Spz/fwlfbUslRt5WISDl2sws4F8888wzvvfcey5cvx+l0VnjOuHHjGDt2rPd2VlaWAo6ZQqM9a998fBes/Af88D/ofj10Hw5x3T2zq8SrdUwDFj34O9bsPsKqXems2n2ErYey2JaSzbaUbF7/Zi92q4WeCVH0bxfDgLaN6NWiIcF204fTiYiYxtRwExMTg81mIzU1tdzx1NRU4uLiKn3sc889xzPPPMOSJUvo0aPHac9zOBw4HBqr4FN6DIf0HfD9a5D9G6x+0bM17gTdb/RsDVuaXaXPcAbZGNipCQM7NQEgPaeQNbuPsHp3Ot/sSufA0XzW/XKMdb8c44WlOwkJsnF+62gGtGvEgHYxdI6LwGpVaBSR+sMnBhSff/75vPjii4BnQHGLFi249957Tzug+Nlnn+Vvf/sbixYt4oILLjir19OAYh9SUgg7v4Sf5sKOReA6YSxJiyRPyOl6rae1R07rwNE8Vu3yBJ01u49wJLf8WKboBsEktfEEnQHtGtEiOhSLWshExM+czfe36eFmzpw5jBo1ildeeYXzzz+f6dOnM3fuXLZt20ZsbCwjR46kWbNmTJ06FYC///3vjB8/nnfeeYcBAwZ4nycsLIywsLAzvp7CjY/Kz4Ctn8GmubD3a6D019IaBO2SoceN0GEoBIeaWaXPc7sNtqdme7qwdqXz3d6j5BW5yp3TLCqEC9vF0L9dI/q3jdEsLBHxC34VbgBeeukl/vGPf5CSkkLPnj154YUX6NevHwCXXHIJrVq1Yvbs2QC0atWKX345dXn6CRMmMHHixDO+lsKNH8j6DTZ94Ak6KZuOHw8Og85XeYJO64vBajOvRj9RVOLmx18zWLUrndW7jvDDgWMUu8r/le8YG+5t1enXphFhDr8eiiciAcrvwk1dUrjxM2nbPCFn0/uQsf/48bBYz3Wrut8ITXtpIHIV5RaWsHbfUVbvSmfVriNsOVR+aQRb6eDkAW0b0b9dDL1aROGwK0SKiPkUbiqhcOOnDAMOfOe5NtXmjyH/2PH7GrX3hJweN0J0G/Nq9ENHcgpZs+cIq3Z5ZmPtP5pX7v6QIBt9W0czoK1nzE6XeA1OFhFzKNxUQuEmAJQUwe6lnoHI27+Akvzj9zXrAz1GeAYihzU2r0Y/deBoHqt3e1p1Vu9OJz2n/ODkhqFBJLX1jNW5sF0MLRtpcLKI1A2Fm0oo3ASYwmzY+rmn62rPcjBKFwW02KDt7z3TzjtdAcENTC3THxlG2eBkT6vOd3uOkFvB4OT+bRtxYfsYkto2okl4xetNiYicK4WbSijcBLDsVNj8kafr6rcfjh8PCvUEnO7Doe1AsAWZV6MfK3a5+enXDFbtOsI3u9L5Yf+pg5M7xIZ5Bie3jaFfm2jCnfqsRaRmKNxUQuGmnkjf5WnN+WkuHNt7/HhoDHS7zhN0mvfRQORzkFdUwvf7jnmnnW85lMWJ/5rYrBZ6NI/0TDtvG8N5LTU4WUSqT+GmEgo39YxhwMH1npDz84eQl378voatSwciD4eY9ubVGCCO5hZ5LhOxO53Vu9LZd6T84GRnkJW+raK9LTtdmkZg0+BkEakihZtKKNzUY65iz7icn+bCtvlQnHv8vvienpDT7XoIr/zSH1I1vx7LY/UuT9hZtevIKVczjwoNIqmNZ8r5he1iaKXBySJSCYWbSijcCABFubBtgafratdSMEoHylqsngUCewyHTleCU78jNcEwDHak5ngWE9ydzrd7jp5yNfOmkU7PxT/bNWJA2xiaRGhwsogcp3BTCYUbOUVuumftnJ/mwq9rjx+3O6HjUM/4nHbJYA82r8YA4xmcnMnq0mti/bA/gyKXu9w57ZuUDk5u5xmcHKHBySL1msJNJRRupFJH93gu/fDTXDiy8/jxkIbQ5RrPGjoJ/cBqNa3EQJRf5OL7fUc9g5N3p7P5t/KDk60W6NE8yntNrPNaNMQZpMHJIvWJwk0lFG6kSgwDDm2En973DETOSTl+X2QL6H6Dp+uqSWfTSgxkx3KL+HaPZ8r56t1H2JueW+5+h93K+a2j6d/W043VtWmkBieLBDiFm0oo3MhZc7tg70rP9a22fApF2cfvi+3uuexDtxsgspl5NQa4gxn5pRf/TGfV7iMczi4/ODkyxDM4eUC7RpzfuhEJ0SGEBusCoCKBROGmEgo3ck6K82HHQk+31c7F4C4uvcMCrS70TC3vcjWERJlZZUAzDIOdaTml6+sc4bs9R8g+aXAyeAJPfKSTplEhNI1yEh95ws/IEGIjHVp3R8SPKNxUQuFGakzeUdgyz9N1tX/18eO2YOgw2DMQuf1lEKRZP7WpxOXmp4OZ3iudbzqYecpMrNOJCXOUBp7j4adpVIh3v0m4U91dIj5C4aYSCjdSKzL2Hx+IfHjr8eOOSOhylWd8TssLNRC5jmQVFHMoo4DfMvM5lFHAocx8fsso4LeMfM9+ZgFFJe4zPo/NaiE23EF8VIi3FagsCDWLCiE+ykmjBsFan0ekDijcVELhRmqVYUDqz8dXRM46ePy+8KbQ/XpPi05cd136wUSGYXA0t4hDmWWB59QglJJVgMt95n8eg+3W0sDjpGmkJ/Cc3AUWEWJXABI5Rwo3lVC4kTrjdsMvqzwLBW75BAoyj9/XuLNnIHL3GyGqhXk1ymm53AaHswtPCT1lLT+HMvI5nFNIVf4FbRBsO976UxqATg5CGgAtUjmFm0oo3IgpSgph55eeFp0di8B1wmyfFkmekNP1WgiNNq9GOWtFJW5Ss07f+nMoM59jecVnfiI8A6CbRoXQNNJZYetPXKSTYLu6NaX+UriphMKNmC4/A7Z+6gk6+74BSv8KWoM8KyH3GO5ZGTkoxMwqpYbkF7m8oadc+Clt/TmUWXBWA6CblQaeilp/NABaApnCTSUUbsSnZB70jM3ZNBdSNh0/HhwOnYd5uq5aXwxWTVkOZFkFxZ7WnxMC0MlBqDoDoJuVDYCOCvEGIQ2AFn+lcFMJhRvxWWnbPCFn0/ue2VdlwmKh/SAIi4MGMdCgMYQ28vxsEOPZt+m6S4HsxAHQBzPyvS0+J7b+nO0A6KYRwTQLt4I9BKvVgtViKf0JNosFi8VzzGal3H3W0uOeDe9jy86zWCzYTjh+8nlWiyeEec7z3LZYLNhOfP5T6jjhMSfXYaXc69hKX8dywr63hpPeh+c5Ka3Ds6/g57sUbiqhcCM+zzDgwHfw0xzPBT3zj535Mc6o42GnQQyExpz+dkg02DR4NaC43bjyjnE0PYWjhw+RdTSVvGNpFGan485Nx5Z/FHtRBg1cmTQkh4aWbKLIwW5xU2AEcdiI4jCRpBuRp+4bkRzGs1+Aw+x3WusqCk620lAUEWInKiSYqNAgGoZ6fkaFBtOw9HZk6c+GoUFEhQQT7rRjVTdhjVG4qYTCjfiVkiLY/ZXnOle56ZB7GPKOeH7mpnv2Odu/whbPhUAragWq6HZIQ3WL1SW3yxNo8456/nzzjkB+2f5Rz1bu9hEoyADjzN1W56rQGkpOUDTZ9mhy7NFk2aLJtjck0xZNlq0hWbaGZNiiybRGUWwJwuU2cBuelqeyfbdheDY3uAwDw/Acd7k9+67S+7znlT3GXf48t3Hq492GgXHC/omPN+ObzmqBqNBgokKCTghEZeEo6IT98j9DgmxqQaqAwk0lFG4koJR9EXqDT3rp/mlu5x+jWmEotNHpu8TKBaOY0jCkWT0AuIpLg8oJQeSMQSWTs/8zKuWI8Hz+oY08M+9CG3la6kIbQWjDk25HQ3ADz+vmpEFuGuSkevbLthOPlRScXS3OSE+XaoMmENbEsx/WuPRnrOf3JSzW87tTB92qxglBxxOQPOHIbRgY7uP77pPDVel+idtNZn4JGXlFZOQVc6z0Z0Z+EcfyisnIK+JYbjGZ+Z778opc1a412G71tv6UhZ6GDYKIDKm4lahsP8gW2H/vFG4qoXAj9ZqrpDQMlQWfw5B75PS3q9IldjKLzfPFWZVWodBGni41fwhDJUWnBhHv7WMn3S49Vph55uc9HWdk+SDiDSYVHWvkCTX24Jp7vycyDCjMLg09qaWhJ+34bW8QKt3cVZv+7hXaqHzgCTsxEDUpDUixnvfsJ62IhSUuMvOKOeYNQmWhqPiUgHQsr4iMfM/xYlf1v5LDHPbSrrITWolCjrcSNWwQdEq3WoQz6Ny6ztxuKM7zXHevONfzsygP7A6I61b9562Awk0lFG5EzoKr2PNFfnIrkDcInXS7oBpf5lZ76Zd1zPExQmWtQBXddkae++rOxQWnCSqVhJcTrwZ/ViyeC6me3GoSGn2a8FIaVPx1XJRheEJxucCTWj4MlR3PPXx23WkWa2kAOiHwnBiETgxHIQ39bhVwwzDILXKVCz/H8orJLP15LK+oNDAdby3KyPe0Fp3um9yGixAKCaGQUEshIRQRSgFOSxGhpccaBZcQHeQiKqiYSHsJEbYiwqyeLaT0MQ53AcFGAXZXATZXPpbiPCzFeadv0WuRBLctrNHP52y+v/30b4+I1AlbEITHeraqKCkqDQMntAKdLgjlHvG0bLhLSr/8Uqv2GtagEwZJx5zUKhQDQQ08X66nDS9HPf/DrA6LtXzriXf/5C6gE26HRPlNa0ONsFiOfyZ0qvxct6u0Wyy14iB04rG8I54gVNXfFWvQ8eDj7RqroDUorAk4ws0JQoYBriJPy0dRHpbifMKKcwkrzqd5US6U5IElH4JyIfSEn0V5pa0lnscZxXm4CnJwFeVhlN5nLcnHVpKPzahCK5oBFJVu56DI4qDEFoLL5iTHFU78uT3dOVG4EZGaYw+GiHjPVhUlheUHSHvDTwWDp3PTPa0n7mLIPuTZzoXFdlIQOd1YlRPu95cuNH9htZWOw2l85nNdxZ7fgZxUz+/EKa1BJxwryPD8nmQdLH99t9OxO0/TGlTWItTEE5zdJVBU2vVyQrgo1x1TnHfSfSd115x8rlH9sTllLHi+zCv/Qrd4xlgFhXoWCA1ugNvupMQWQpHVSSFO8nGQTzA5hoMcVxBZrmAyS+wcKw7iaLGNI4V20gttZLmCS891kGd4HlNAMAbH/24kRkTxyTm/s+pTuBER89gdENHUs1VFccHpu8fKjhflVt7lUzaw1hHhd90W9ZotqOrBuaSwgm6xwxW0EB32BOaSAs/aUieuL1XXrHZPq2NQCASHloaQ40Gk/H5IxeeWe9xJt+2OU37frUBw6RZWxTINwyCvyHV8QPWJY4ZyS7vL8otIaBhawx/Q2VG4ERH/EeSEyOaeTeR07A6ISvBsZ1KUe3z8T2WtQXlHPAGkwqBRQZioMGicGEpOeh4/WYjTYrHQwGGngcNO84ZmV3N6CjciIlJ/BTeA6NaeTQKGOo9FREQkoCjciIiISEBRuBEREZGAonAjIiIiAUXhRkRERAKKwo2IiIgEFIUbERERCSgKNyIiIhJQfCLczJgxg1atWuF0OunXrx9r166t9Pz333+fTp064XQ66d69OwsWLKijSkVERMTXmR5u5syZw9ixY5kwYQIbNmwgMTGRwYMHk5aWVuH5q1ev5qabbuL222/nhx9+4JprruGaa67h559/ruPKRURExBdZDMMwzCygX79+9O3bl5deegkAt9tNQkIC9913H4899tgp548YMYLc3Fw+//xz77ELLriAnj17MmvWrDO+XlZWFpGRkWRmZhIREVFzb0RERERqzdl8f5vaclNUVMT69etJTk72HrNarSQnJ7NmzZoKH7NmzZpy5wMMHjz4tOeLiIhI/WLqhTPT09NxuVzExsaWOx4bG8u2bdsqfExKSkqF56ekpFR4fmFhIYWFhd7bWVlZ51i1iIiI+DLTx9zUtqlTpxIZGendEhISzC5JREREapGpLTcxMTHYbDZSU1PLHU9NTSUuLq7Cx8TFxZ3V+ePGjWPs2LHe25mZmbRo0UItOCIiIn6k7Hu7KkOFTQ03wcHB9O7dm6VLl3LNNdcAngHFS5cu5d57763wMUlJSSxdupQHH3zQe2zx4sUkJSVVeL7D4cDhcHhvl304asERERHxP9nZ2URGRlZ6jqnhBmDs2LGMGjWKPn36cP755zN9+nRyc3O59dZbARg5ciTNmjVj6tSpADzwwANcfPHFTJs2jSuuuIL33nuPdevW8eqrr1bp9Zo2bcqBAwcIDw/HYrHU6HvJysoiISGBAwcOaCbWGeizqjp9VlWnz6rq9FmdHX1eVVdbn5VhGGRnZ9O0adMznmt6uBkxYgSHDx9m/PjxpKSk0LNnTxYuXOgdNLx//36s1uNDg/r3788777zDk08+yeOPP0779u2ZN28e3bp1q9LrWa1WmjdvXivvpUxERIR++atIn1XV6bOqOn1WVafP6uzo86q62visztRiU8b0dW4CidbQqTp9VlWnz6rq9FlVnT6rs6PPq+p84bMK+NlSIiIiUr8o3NQgh8PBhAkTyg1glorps6o6fVZVp8+q6vRZnR19XlXnC5+VuqVEREQkoKjlRkRERAKKwo2IiIgEFIUbERERCSgKNyIiIhJQFG5qyIwZM2jVqhVOp5N+/fqxdu1as0vySStXrmTYsGE0bdoUi8XCvHnzzC7JZ02dOpW+ffsSHh5OkyZNuOaaa9i+fbvZZfmkmTNn0qNHD++iYUlJSXzxxRdml+UXnnnmGSwWS7lL2ojHxIkTsVgs5bZOnTqZXZbPOnjwIH/84x9p1KgRISEhdO/enXXr1plSi8JNDZgzZw5jx45lwoQJbNiwgcTERAYPHkxaWprZpfmc3NxcEhMTmTFjhtml+LwVK1Zwzz338O2337J48WKKi4u57LLLyM3NNbs0n9O8eXOeeeYZ1q9fz7p16/j973/P1VdfzebNm80uzad9//33vPLKK/To0cPsUnxW165dOXTokHf75ptvzC7JJx07dowBAwYQFBTEF198wZYtW5g2bRoNGzY0pyBDztn5559v3HPPPd7bLpfLaNq0qTF16lQTq/J9gPHxxx+bXYbfSEtLMwBjxYoVZpfiFxo2bGj8+9//NrsMn5WdnW20b9/eWLx4sXHxxRcbDzzwgNkl+ZwJEyYYiYmJZpfhFx599FHjwgsvNLsML7XcnKOioiLWr19PcnKy95jVaiU5OZk1a9aYWJkEmszMTACio6NNrsS3uVwu3nvvPXJzc0lKSjK7HJ91zz33cMUVV5T7t0tOtXPnTpo2bUqbNm245ZZb2L9/v9kl+aRPP/2UPn36cOONN9KkSRN69erFa6+9Zlo9CjfnKD09HZfL5b3QZ5nY2FhSUlJMqkoCjdvt5sEHH2TAgAFVvkhsfbNp0ybCwsJwOBzcfffdfPzxx3Tp0sXssnzSe++9x4YNG5g6darZpfi0fv36MXv2bBYuXMjMmTPZu3cvF110EdnZ2WaX5nP27NnDzJkzad++PYsWLWLMmDHcf//9vPXWW6bUY/pVwUXkzO655x5+/vln9fdXomPHjmzcuJHMzEw++OADRo0axYoVKxRwTnLgwAEeeOABFi9ejNPpNLscnzZ06FDvfo8ePejXrx8tW7Zk7ty53H777SZW5nvcbjd9+vRhypQpAPTq1Yuff/6ZWbNmMWrUqDqvRy035ygmJgabzUZqamq546mpqcTFxZlUlQSSe++9l88//5xly5bRvHlzs8vxWcHBwbRr147evXszdepUEhMT+de//mV2WT5n/fr1pKWlcd5552G327Hb7axYsYIXXngBu92Oy+Uyu0SfFRUVRYcOHdi1a5fZpfic+Pj4U/4j0blzZ9O68RRuzlFwcDC9e/dm6dKl3mNut5ulS5eqv1/OiWEY3HvvvXz88cd89dVXtG7d2uyS/Irb7aawsNDsMnzOpZdeyqZNm9i4caN369OnD7fccgsbN27EZrOZXaLPysnJYffu3cTHx5tdis8ZMGDAKUtV7Nixg5YtW5pSj7qlasDYsWMZNWoUffr04fzzz2f69Onk5uZy6623ml2az8nJySn3v569e/eyceNGoqOjadGihYmV+Z577rmHd955h08++YTw8HDvGK7IyEhCQkJMrs63jBs3jqFDh9KiRQuys7N55513WL58OYsWLTK7NJ8THh5+yritBg0a0KhRI43nOsnDDz/MsGHDaNmyJb/99hsTJkzAZrNx0003mV2az3nooYfo378/U6ZMYfjw4axdu5ZXX32VV1991ZyCzJ6uFShefPFFo0WLFkZwcLBx/vnnG99++63ZJfmkZcuWGcAp26hRo8wuzedU9DkBxptvvml2aT7ntttuM1q2bGkEBwcbjRs3Ni699FLjyy+/NLssv6Gp4BUbMWKEER8fbwQHBxvNmjUzRowYYezatcvssnzWZ599ZnTr1s1wOBxGp06djFdffdW0WiyGYRjmxCoRERGRmqcxNyIiIhJQFG5EREQkoCjciIiISEBRuBEREZGAonAjIiIiAUXhRkRERAKKwo2IiIgEFIUbEan3li9fjsViISMjw+xSRKQGKNyIiIhIQFG4ERERkYCicCMipnO73UydOpXWrVsTEhJCYmIiH3zwAXC8y2j+/Pn06NEDp9PJBRdcwM8//1zuOT788EO6du2Kw+GgVatWTJs2rdz9hYWFPProoyQkJOBwOGjXrh2vv/56uXPWr19Pnz59CA0NpX///qdc5VhE/IPCjYiYburUqbz99tvMmjWLzZs389BDD/HHP/6RFStWeM/5v//7P6ZNm8b3339P48aNGTZsGMXFxYAnlAwfPpw//OEPbNq0iYkTJ/LUU08xe/Zs7+NHjhzJu+++ywsvvMDWrVt55ZVXCAsLK1fHE088wbRp01i3bh12u53bbrutTt6/iNQsXThTRExVWFhIdHQ0S5YsISkpyXv8jjvuIC8vj7vuuouBAwfy3nvvMWLECACOHj1K8+bNmT17NsOHD+eWW27h8OHDfPnll97HP/LII8yfP5/NmzezY8cOOnbsyOLFi0lOTj6lhuXLlzNw4ECWLFnCpZdeCsCCBQu44ooryM/Px+l01vKnICI1SS03ImKqXbt2kZeXx6BBgwgLC/Nub7/9Nrt37/aed2LwiY6OpmPHjmzduhWArVu3MmDAgHLPO2DAAHbu3InL5WLjxo3YbDYuvvjiSmvp0aOHdz8+Ph6AtLS0c36PIlK37GYXICL1W05ODgDz58+nWbNm5e5zOBzlAk51hYSEVOm8oKAg777FYgE844FExL+o5UZETNWlSxccDgf79++nXbt25baEhATved9++613/9ixY+zYsYPOnTsD0LlzZ1atWlXueVetWkWHDh2w2Wx0794dt9tdbgyPiAQutdyIiKnCw8N5+OGHeeihh3C73Vx44YVkZmayatUqIiIiaNmyJQCTJ0+mUaNGxMbG8sQTTxATE8M111wDwF/+8hf69u3L008/zYgRI1izZg0vvfQSL7/8MgCtWrVi1KhR3HbbbbzwwgskJibyyy+/kJaWxvDhw8166yJSSxRuRMR0Tz/9NI0bN2bq1Kns2bOHqKgozjvvPB5//HFvt9AzzzzDAw88wM6dO+nZsyefffYZwcHBAJx33nnMnTuX8ePH8/TTTxMfH8/kyZMZPXq09zVmzpzJ448/zp///GeOHDlCixYtePzxx814uyJSyzRbSkR8WtlMpmPHjhEVFWV2OSLiBzTmRkRERAKKwo2IiIgEFHVLiYiISEBRy42IiIgEFIUbERERCSgKNyIiIhJQFG5EREQkoCjciIiISEBRuBEREZGAonAjIiIiAUXhRkRERAKKwo2IiIgElP8PUdBd2Z8j0qEAAAAASUVORK5CYII=\n",
            "text/plain": [
              "<Figure size 640x480 with 1 Axes>"
            ]
          },
          "metadata": {},
          "output_type": "display_data"
        }
      ],
      "source": [
        "history = model.fit(x_train, y_train, validation_data=(x_val, y_val), epochs=7, batch_size=50)\n",
        "\n",
        "print(history.history.keys())\n",
        "# Plot of accuracy in each epoch\n",
        "plt.plot(history.history['acc'])\n",
        "plt.plot(history.history['val_acc'])\n",
        "plt.title('model accuracy')\n",
        "plt.ylabel('accuracy')\n",
        "plt.xlabel('epoch')\n",
        "plt.legend(['train', 'validation'], loc='upper left')\n",
        "plt.show()\n",
        "# Plot of loss in each epoch\n",
        "plt.plot(history.history['loss'])\n",
        "plt.plot(history.history['val_loss'])\n",
        "plt.title('model loss')\n",
        "plt.ylabel('loss')\n",
        "plt.xlabel('epoch')\n",
        "plt.legend(['train', 'validation'], loc='upper left')\n",
        "plt.show()"
      ]
    },
    {
      "cell_type": "markdown",
      "metadata": {
        "id": "VLn3fUYKVx-l"
      },
      "source": [
        "**TEST**"
      ]
    },
    {
      "cell_type": "code",
      "execution_count": null,
      "metadata": {
        "colab": {
          "base_uri": "https://localhost:8080/"
        },
        "id": "s-aeutBLVzYH",
        "outputId": "630d1e94-d8ee-40ea-b3f2-aefb74d75e6d"
      },
      "outputs": [
        {
          "name": "stdout",
          "output_type": "stream",
          "text": [
            "\u001b[1m7/7\u001b[0m \u001b[32m━━━━━━━━━━━━━━━━━━━━\u001b[0m\u001b[37m\u001b[0m \u001b[1m6s\u001b[0m 837ms/step - acc: 0.9832 - loss: 0.0464\n",
            "Test set accuracy:  0.9864864945411682\n",
            "Test set loss:  0.05535021051764488\n"
          ]
        }
      ],
      "source": [
        "loss, acc = model.evaluate(x_test,y_test)\n",
        "print(\"Test set accuracy: \",acc)\n",
        "print(\"Test set loss: \", loss)"
      ]
    },
    {
      "cell_type": "markdown",
      "metadata": {
        "id": "owwwvEP_V2yT"
      },
      "source": [
        "**SAVE MODEL**"
      ]
    },
    {
      "cell_type": "code",
      "execution_count": null,
      "metadata": {
        "id": "G74YOnN5V6wP"
      },
      "outputs": [],
      "source": [
        "# Saves the model in a hdf5 file\n",
        "#model.save('Model_7epoch.h5')\n",
        "model.save('my_model.keras')"
      ]
    }
}
